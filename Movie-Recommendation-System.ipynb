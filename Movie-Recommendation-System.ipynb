{
  "cells": [
    {
      "attachments": {},
      "cell_type": "markdown",
      "metadata": {
        "id": "Cf3GloRNvOOG"
      },
      "source": [
        "# **Recommendation Systems: Movie Recommendation System**\n",
        "\n",
        "---------------\n",
        "## **Context**\n",
        "---------------\n",
        "\n",
        "Online streaming platforms like **Netflix** have plenty of movies in their repository and if we can build a **Recommendation System** to recommend **relevant movies** to users, based on their **historical interactions**, this would **improve customer satisfaction** and hence, it will also improve the revenue of the platform. The techniques that we will learn here will not only be limited to movies, it can be any item for which you want to build a recommendation system.\n",
        "\n",
        "-----------------\n",
        "## **Objective**\n",
        "-----------------\n",
        "\n",
        "In this project we will be building various recommendation systems: \n",
        "- Knowledge/Rank based recommendation system\n",
        "- Similarity-Based Collaborative filtering\n",
        "- Matrix Factorization Based Collaborative Filtering\n",
        "\n",
        "we are going to use the **ratings** dataset. \n",
        "\n",
        "-----------------\n",
        "## **Dataset**\n",
        "-----------------\n",
        "\n",
        "The **ratings** dataset contains the following attributes: \n",
        "- userId\n",
        "- movieId\n",
        "- rating\n",
        "- timestamp\n"
      ]
    },
    {
      "cell_type": "markdown",
      "metadata": {
        "id": "9hczXgBkvOOG"
      },
      "source": [
        "## **Importing the necessary libraries and overview of the dataset**"
      ]
    },
    {
      "cell_type": "code",
      "execution_count": 3,
      "metadata": {
        "id": "Gem2ozi_vOOG"
      },
      "outputs": [],
      "source": [
        "# Used to ignore the warning given as output of the code\n",
        "import warnings                                 \n",
        "warnings.filterwarnings('ignore')\n",
        "\n",
        "# Basic libraries of python for numeric and dataframe computations\n",
        "import numpy as np                              \n",
        "import pandas as pd\n",
        "\n",
        "# Basic library for data visualization\n",
        "import matplotlib.pyplot as plt     \n",
        "\n",
        "# Slightly advanced library for data visualization            \n",
        "import seaborn as sns                           \n",
        "\n",
        "# A dictionary output that does not raise a key error\n",
        "from collections import defaultdict             \n",
        "\n",
        "# A performance metrics in surprise\n",
        "from surprise import accuracy\n",
        "\n",
        "# Class is used to parse a file containing ratings, data should be in structure - user ; item ; rating\n",
        "from surprise.reader import Reader\n",
        "\n",
        "# Class for loading datasets\n",
        "from surprise.dataset import Dataset\n",
        "\n",
        "# For model tuning model hyper-parameters\n",
        "from surprise.model_selection import GridSearchCV\n",
        "\n",
        "# For splitting the rating data in train and test dataset\n",
        "from surprise.model_selection import train_test_split\n",
        "\n",
        "# For implementing similarity based recommendation system\n",
        "from surprise.prediction_algorithms.knns import KNNBasic\n",
        "\n",
        "# For implementing matrix factorization based recommendation system\n",
        "from surprise.prediction_algorithms.matrix_factorization import SVD\n",
        "\n",
        "# For implementing cross validation\n",
        "from surprise.model_selection import KFold"
      ]
    },
    {
      "cell_type": "markdown",
      "metadata": {
        "id": "ewHMWerQ2N9T"
      },
      "source": [
        "### **Loading the data**"
      ]
    },
    {
      "cell_type": "code",
      "execution_count": 4,
      "metadata": {
        "id": "EdQIx3OLvOOG"
      },
      "outputs": [],
      "source": [
        "# Import the dataset\n",
        "rating = pd.read_csv('data.csv')"
      ]
    },
    {
      "cell_type": "markdown",
      "metadata": {
        "id": "WAW3gTmB2N9a"
      },
      "source": [
        "Let's check the **info** of the data"
      ]
    },
    {
      "cell_type": "code",
      "execution_count": 5,
      "metadata": {
        "id": "8zF1K1hDvOOG"
      },
      "outputs": [
        {
          "name": "stdout",
          "output_type": "stream",
          "text": [
            "<class 'pandas.core.frame.DataFrame'>\n",
            "RangeIndex: 100004 entries, 0 to 100003\n",
            "Data columns (total 4 columns):\n",
            " #   Column     Non-Null Count   Dtype  \n",
            "---  ------     --------------   -----  \n",
            " 0   userId     100004 non-null  int64  \n",
            " 1   movieId    100004 non-null  int64  \n",
            " 2   rating     100004 non-null  float64\n",
            " 3   timestamp  100004 non-null  int64  \n",
            "dtypes: float64(1), int64(3)\n",
            "memory usage: 3.1 MB\n"
          ]
        }
      ],
      "source": [
        "rating.info()"
      ]
    },
    {
      "cell_type": "markdown",
      "metadata": {
        "id": "202Ux9MH2N9f"
      },
      "source": [
        "- There are **1,00,004 observations** and **4 columns** in the data\n",
        "- All the columns are of **numeric data type**\n",
        "- The data type of the timestamp column is int64 which is not correct. We can convert this to DateTime format but **we don't need timestamp for our analysis**. Hence, **we can drop this column**"
      ]
    },
    {
      "cell_type": "code",
      "execution_count": 6,
      "metadata": {
        "id": "fltadjTcvOOH"
      },
      "outputs": [],
      "source": [
        "# Dropping timestamp column\n",
        "rating = rating.drop(['timestamp'], axis=1)"
      ]
    },
    {
      "cell_type": "code",
      "execution_count": 7,
      "metadata": {
        "id": "1Q6gs-IO2N9i"
      },
      "outputs": [
        {
          "data": {
            "text/html": [
              "<div>\n",
              "<style scoped>\n",
              "    .dataframe tbody tr th:only-of-type {\n",
              "        vertical-align: middle;\n",
              "    }\n",
              "\n",
              "    .dataframe tbody tr th {\n",
              "        vertical-align: top;\n",
              "    }\n",
              "\n",
              "    .dataframe thead th {\n",
              "        text-align: right;\n",
              "    }\n",
              "</style>\n",
              "<table border=\"1\" class=\"dataframe\">\n",
              "  <thead>\n",
              "    <tr style=\"text-align: right;\">\n",
              "      <th></th>\n",
              "      <th>userId</th>\n",
              "      <th>movieId</th>\n",
              "      <th>rating</th>\n",
              "    </tr>\n",
              "  </thead>\n",
              "  <tbody>\n",
              "    <tr>\n",
              "      <th>0</th>\n",
              "      <td>1</td>\n",
              "      <td>31</td>\n",
              "      <td>2.5</td>\n",
              "    </tr>\n",
              "    <tr>\n",
              "      <th>1</th>\n",
              "      <td>1</td>\n",
              "      <td>1029</td>\n",
              "      <td>3.0</td>\n",
              "    </tr>\n",
              "    <tr>\n",
              "      <th>2</th>\n",
              "      <td>1</td>\n",
              "      <td>1061</td>\n",
              "      <td>3.0</td>\n",
              "    </tr>\n",
              "    <tr>\n",
              "      <th>3</th>\n",
              "      <td>1</td>\n",
              "      <td>1129</td>\n",
              "      <td>2.0</td>\n",
              "    </tr>\n",
              "    <tr>\n",
              "      <th>4</th>\n",
              "      <td>1</td>\n",
              "      <td>1172</td>\n",
              "      <td>4.0</td>\n",
              "    </tr>\n",
              "  </tbody>\n",
              "</table>\n",
              "</div>"
            ],
            "text/plain": [
              "   userId  movieId  rating\n",
              "0       1       31     2.5\n",
              "1       1     1029     3.0\n",
              "2       1     1061     3.0\n",
              "3       1     1129     2.0\n",
              "4       1     1172     4.0"
            ]
          },
          "execution_count": 7,
          "metadata": {},
          "output_type": "execute_result"
        }
      ],
      "source": [
        "rating.head()"
      ]
    },
    {
      "cell_type": "code",
      "execution_count": 8,
      "metadata": {},
      "outputs": [
        {
          "data": {
            "text/plain": [
              "rating\n",
              "4.0    28750\n",
              "3.0    20064\n",
              "5.0    15095\n",
              "3.5    10538\n",
              "4.5     7723\n",
              "2.0     7271\n",
              "2.5     4449\n",
              "1.0     3326\n",
              "1.5     1687\n",
              "0.5     1101\n",
              "Name: count, dtype: int64"
            ]
          },
          "execution_count": 8,
          "metadata": {},
          "output_type": "execute_result"
        }
      ],
      "source": [
        "rating.rating.value_counts()"
      ]
    },
    {
      "cell_type": "code",
      "execution_count": 9,
      "metadata": {
        "id": "lO-EYEl3wIA2"
      },
      "outputs": [
        {
          "data": {
            "image/png": "[encoded data removed]",
            "text/plain": [
              "<Figure size 1200x400 with 1 Axes>"
            ]
          },
          "metadata": {},
          "output_type": "display_data"
        }
      ],
      "source": [
        "plt.figure(figsize = (12, 4))\n",
        "\n",
        "sns.countplot(data=rating, x ='rating')\n",
        "\n",
        "plt.tick_params(labelsize = 10)\n",
        "plt.title(\"Distribution of Ratings \", fontsize = 10)\n",
        "plt.xlabel(\"Ratings\", fontsize = 10)\n",
        "plt.ylabel(\"Number of Ratings\", fontsize = 10)\n",
        "plt.show()"
      ]
    },
    {
      "attachments": {},
      "cell_type": "markdown",
      "metadata": {
        "id": "vgRDrtHhwIA4"
      },
      "source": [
        "- The majority of ratings is **4** (almost `30k`) and **3** is second with over `20k` ratings.\n",
        "- There are few ratings below **3**\n",
        "- Overall, the distribution leans towards higher ratings."
      ]
    },
    {
      "cell_type": "code",
      "execution_count": 10,
      "metadata": {
        "id": "RMpbsZGGvOOH"
      },
      "outputs": [
        {
          "data": {
            "text/plain": [
              "671"
            ]
          },
          "execution_count": 10,
          "metadata": {},
          "output_type": "execute_result"
        }
      ],
      "source": [
        "rating['userId'].nunique()"
      ]
    },
    {
      "attachments": {},
      "cell_type": "markdown",
      "metadata": {
        "id": "CI8gofnx2N9m"
      },
      "source": [
        "- There are `671` unique **users**"
      ]
    },
    {
      "cell_type": "code",
      "execution_count": 11,
      "metadata": {
        "id": "9A6Qmo_6vOOH"
      },
      "outputs": [
        {
          "data": {
            "text/plain": [
              "9066"
            ]
          },
          "execution_count": 11,
          "metadata": {},
          "output_type": "execute_result"
        }
      ],
      "source": [
        "rating['movieId'].nunique()"
      ]
    },
    {
      "attachments": {},
      "cell_type": "markdown",
      "metadata": {
        "id": "mDWJghQ62N9o"
      },
      "source": [
        "- There are `9066` unique **movies**"
      ]
    },
    {
      "cell_type": "code",
      "execution_count": 39,
      "metadata": {
        "id": "xstEDCVfvOOH"
      },
      "outputs": [
        {
          "data": {
            "text/html": [
              "<div>\n",
              "<style scoped>\n",
              "    .dataframe tbody tr th:only-of-type {\n",
              "        vertical-align: middle;\n",
              "    }\n",
              "\n",
              "    .dataframe tbody tr th {\n",
              "        vertical-align: top;\n",
              "    }\n",
              "\n",
              "    .dataframe thead th {\n",
              "        text-align: right;\n",
              "    }\n",
              "</style>\n",
              "<table border=\"1\" class=\"dataframe\">\n",
              "  <thead>\n",
              "    <tr style=\"text-align: right;\">\n",
              "      <th></th>\n",
              "      <th></th>\n",
              "      <th>rating</th>\n",
              "    </tr>\n",
              "    <tr>\n",
              "      <th>userId</th>\n",
              "      <th>movieId</th>\n",
              "      <th></th>\n",
              "    </tr>\n",
              "  </thead>\n",
              "  <tbody>\n",
              "    <tr>\n",
              "      <th rowspan=\"5\" valign=\"top\">1</th>\n",
              "      <th>31</th>\n",
              "      <td>1</td>\n",
              "    </tr>\n",
              "    <tr>\n",
              "      <th>1029</th>\n",
              "      <td>1</td>\n",
              "    </tr>\n",
              "    <tr>\n",
              "      <th>1061</th>\n",
              "      <td>1</td>\n",
              "    </tr>\n",
              "    <tr>\n",
              "      <th>1129</th>\n",
              "      <td>1</td>\n",
              "    </tr>\n",
              "    <tr>\n",
              "      <th>1172</th>\n",
              "      <td>1</td>\n",
              "    </tr>\n",
              "    <tr>\n",
              "      <th>...</th>\n",
              "      <th>...</th>\n",
              "      <td>...</td>\n",
              "    </tr>\n",
              "    <tr>\n",
              "      <th rowspan=\"5\" valign=\"top\">671</th>\n",
              "      <th>6268</th>\n",
              "      <td>1</td>\n",
              "    </tr>\n",
              "    <tr>\n",
              "      <th>6269</th>\n",
              "      <td>1</td>\n",
              "    </tr>\n",
              "    <tr>\n",
              "      <th>6365</th>\n",
              "      <td>1</td>\n",
              "    </tr>\n",
              "    <tr>\n",
              "      <th>6385</th>\n",
              "      <td>1</td>\n",
              "    </tr>\n",
              "    <tr>\n",
              "      <th>6565</th>\n",
              "      <td>1</td>\n",
              "    </tr>\n",
              "  </tbody>\n",
              "</table>\n",
              "<p>100004 rows × 1 columns</p>\n",
              "</div>"
            ],
            "text/plain": [
              "                rating\n",
              "userId movieId        \n",
              "1      31            1\n",
              "       1029          1\n",
              "       1061          1\n",
              "       1129          1\n",
              "       1172          1\n",
              "...                ...\n",
              "671    6268          1\n",
              "       6269          1\n",
              "       6365          1\n",
              "       6385          1\n",
              "       6565          1\n",
              "\n",
              "[100004 rows x 1 columns]"
            ]
          },
          "execution_count": 39,
          "metadata": {},
          "output_type": "execute_result"
        }
      ],
      "source": [
        "rating.groupby(['userId', 'movieId']).count()"
      ]
    },
    {
      "cell_type": "code",
      "execution_count": 13,
      "metadata": {
        "id": "d1E2i5rZvOOI"
      },
      "outputs": [
        {
          "data": {
            "text/plain": [
              "100004"
            ]
          },
          "execution_count": 13,
          "metadata": {},
          "output_type": "execute_result"
        }
      ],
      "source": [
        "rating.groupby(['userId', 'movieId']).count()['rating'].sum()"
      ]
    },
    {
      "attachments": {},
      "cell_type": "markdown",
      "metadata": {
        "id": "ynCEs7q3vOOI"
      },
      "source": [
        "- The **sum is equal to the total number of observations** which implies that **there is only interaction between a pair of items and a user**."
      ]
    },
    {
      "cell_type": "code",
      "execution_count": 15,
      "metadata": {
        "id": "4LBbXdoDvOOI"
      },
      "outputs": [
        {
          "data": {
            "text/plain": [
              "movieId\n",
              "356       341\n",
              "296       324\n",
              "318       311\n",
              "593       304\n",
              "260       291\n",
              "         ... \n",
              "98604       1\n",
              "103659      1\n",
              "104419      1\n",
              "115927      1\n",
              "6425        1\n",
              "Name: count, Length: 9066, dtype: int64"
            ]
          },
          "execution_count": 15,
          "metadata": {},
          "output_type": "execute_result"
        }
      ],
      "source": [
        "rating['movieId'].value_counts()"
      ]
    },
    {
      "attachments": {},
      "cell_type": "markdown",
      "metadata": {
        "id": "PSo-c_XAvOOI"
      },
      "source": [
        "- The **Movie: 356 has been interacted by most users** which is `341` times.\n",
        "- But still, there is a possibility of 671-341 = `330` more interactions as we have `671` unique users in our datasets. For those `330` remaining users, we can build a recommendation system to predict who is most likely to interact with the item.\n",
        "\n",
        "Also, out of these 330 interactions, we need to consider the distribution of ratings as well."
      ]
    },
    {
      "cell_type": "code",
      "execution_count": 16,
      "metadata": {
        "id": "fVkc1FK22N9r"
      },
      "outputs": [
        {
          "data": {
            "image/png": "[encoded data removed]",
            "text/plain": [
              "<Figure size 700x700 with 1 Axes>"
            ]
          },
          "metadata": {},
          "output_type": "display_data"
        }
      ],
      "source": [
        "# Plotting distributions of ratings for 341 interactions with movieid 356 \n",
        "plt.figure(figsize=(7,7))\n",
        "\n",
        "rating[rating['movieId'] == 356]['rating'].value_counts().plot(kind='bar')\n",
        "\n",
        "plt.xlabel('Rating')\n",
        "\n",
        "plt.ylabel('Count')\n",
        "\n",
        "plt.show()"
      ]
    },
    {
      "attachments": {},
      "cell_type": "markdown",
      "metadata": {
        "id": "0pQn17ro2N9s"
      },
      "source": [
        "- We can see that **this item has been liked by the majority of users**, as the majority of count are ratings 4 and 5. "
      ]
    },
    {
      "cell_type": "code",
      "execution_count": null,
      "metadata": {
        "id": "t7ehlMLDvOOI"
      },
      "outputs": [
        {
          "data": {
            "text/plain": [
              "userId\n",
              "547    2391\n",
              "564    1868\n",
              "624    1735\n",
              "15     1700\n",
              "73     1610\n",
              "       ... \n",
              "296      20\n",
              "289      20\n",
              "249      20\n",
              "221      20\n",
              "1        20\n",
              "Name: count, Length: 671, dtype: int64"
            ]
          },
          "execution_count": 17,
          "metadata": {},
          "output_type": "execute_result"
        }
      ],
      "source": [
        "rating['userId'].value_counts()"
      ]
    },
    {
      "attachments": {},
      "cell_type": "markdown",
      "metadata": {
        "id": "W-Sdna2ovOOI"
      },
      "source": [
        "- The user with **userId: 547** has interacted with the most number of items (**2391** times). \n",
        "- But still, there is a possibility of 9066 - 2391 = `6675` more interactions. For those `6675` remaining items, we can build a recommendation system to predict which items are most likely to be watched by this user."
      ]
    },
    {
      "cell_type": "code",
      "execution_count": 18,
      "metadata": {
        "id": "0XArWJ7l2N9v"
      },
      "outputs": [
        {
          "data": {
            "text/plain": [
              "userId\n",
              "1       20\n",
              "2       76\n",
              "3       51\n",
              "4      204\n",
              "5      100\n",
              "      ... \n",
              "667     68\n",
              "668     20\n",
              "669     37\n",
              "670     31\n",
              "671    115\n",
              "Name: movieId, Length: 671, dtype: int64"
            ]
          },
          "execution_count": 18,
          "metadata": {},
          "output_type": "execute_result"
        }
      ],
      "source": [
        "# Finding user-movie interactions distribution\n",
        "count_interactions = rating.groupby('userId').count()['movieId']\n",
        "count_interactions"
      ]
    },
    {
      "cell_type": "code",
      "execution_count": 25,
      "metadata": {
        "id": "JoNCRm88vOOI"
      },
      "outputs": [
        {
          "data": {
            "image/png": "[encoded data removed]",
            "text/plain": [
              "<Figure size 1500x700 with 1 Axes>"
            ]
          },
          "metadata": {},
          "output_type": "display_data"
        }
      ],
      "source": [
        "plt.figure(figsize=(15,7))\n",
        "\n",
        "sns.histplot(count_interactions)\n",
        "\n",
        "plt.xlabel('Number of Interactions by Users')\n",
        "\n",
        "plt.show()"
      ]
    },
    {
      "attachments": {},
      "cell_type": "markdown",
      "metadata": {
        "id": "vmj5nPiN2N9w"
      },
      "source": [
        "- The distribution is highly skewed to the right. Only a few users interacted with more than 200 items."
      ]
    },
    {
      "attachments": {},
      "cell_type": "markdown",
      "metadata": {
        "id": "knK9ML0bwIBR"
      },
      "source": [
        "## **Rank-Based Recommendation System**"
      ]
    },
    {
      "cell_type": "markdown",
      "metadata": {
        "id": "CqFN5jDJvOOJ"
      },
      "source": [
        "### **Model 1: Rank-Based Recommendation System**"
      ]
    },
    {
      "attachments": {},
      "cell_type": "markdown",
      "metadata": {
        "id": "W26vIRn1vOOJ"
      },
      "source": [
        "Rank-based recommendation systems provide recommendations based on the most popular items. This kind of recommendation system is useful when we have **cold start** problems. Cold start refers to the issue when we get a new user into the system and the machine is not able to recommend movies to the new user, as the user did not have any historical interactions in the dataset. In those cases, we can use rank-based recommendation system to recommend movies to the new user."
      ]
    },
    {
      "cell_type": "markdown",
      "metadata": {
        "id": "I3t4uyGlvOOK"
      },
      "source": [
        "To build the rank-based recommendation system, we take **average** of all the ratings provided to each movie and then rank them based on their average rating."
      ]
    },
    {
      "cell_type": "code",
      "execution_count": null,
      "metadata": {
        "id": "xuMR3XFIvOOK"
      },
      "outputs": [],
      "source": [
        "# Calculating average ratings\n",
        "average_rating = rating.groupby('movieId').mean()['rating']\n",
        "\n",
        "# Calculating the count of ratings\n",
        "count_rating = rating.groupby('movieId').count()['rating']\n",
        "\n",
        "# Making a dataframe with the count and average of ratings\n",
        "final_rating = pd.DataFrame({'avg_rating':average_rating, 'rating_count':count_rating})"
      ]
    },
    {
      "cell_type": "code",
      "execution_count": 28,
      "metadata": {
        "id": "J6NLX6FIvOOK"
      },
      "outputs": [
        {
          "data": {
            "text/html": [
              "<div>\n",
              "<style scoped>\n",
              "    .dataframe tbody tr th:only-of-type {\n",
              "        vertical-align: middle;\n",
              "    }\n",
              "\n",
              "    .dataframe tbody tr th {\n",
              "        vertical-align: top;\n",
              "    }\n",
              "\n",
              "    .dataframe thead th {\n",
              "        text-align: right;\n",
              "    }\n",
              "</style>\n",
              "<table border=\"1\" class=\"dataframe\">\n",
              "  <thead>\n",
              "    <tr style=\"text-align: right;\">\n",
              "      <th></th>\n",
              "      <th>avg_rating</th>\n",
              "      <th>rating_count</th>\n",
              "    </tr>\n",
              "    <tr>\n",
              "      <th>movieId</th>\n",
              "      <th></th>\n",
              "      <th></th>\n",
              "    </tr>\n",
              "  </thead>\n",
              "  <tbody>\n",
              "    <tr>\n",
              "      <th>1</th>\n",
              "      <td>3.872470</td>\n",
              "      <td>247</td>\n",
              "    </tr>\n",
              "    <tr>\n",
              "      <th>2</th>\n",
              "      <td>3.401869</td>\n",
              "      <td>107</td>\n",
              "    </tr>\n",
              "    <tr>\n",
              "      <th>3</th>\n",
              "      <td>3.161017</td>\n",
              "      <td>59</td>\n",
              "    </tr>\n",
              "    <tr>\n",
              "      <th>4</th>\n",
              "      <td>2.384615</td>\n",
              "      <td>13</td>\n",
              "    </tr>\n",
              "    <tr>\n",
              "      <th>5</th>\n",
              "      <td>3.267857</td>\n",
              "      <td>56</td>\n",
              "    </tr>\n",
              "  </tbody>\n",
              "</table>\n",
              "</div>"
            ],
            "text/plain": [
              "         avg_rating  rating_count\n",
              "movieId                          \n",
              "1          3.872470           247\n",
              "2          3.401869           107\n",
              "3          3.161017            59\n",
              "4          2.384615            13\n",
              "5          3.267857            56"
            ]
          },
          "execution_count": 28,
          "metadata": {},
          "output_type": "execute_result"
        }
      ],
      "source": [
        "final_rating.head()"
      ]
    },
    {
      "cell_type": "markdown",
      "metadata": {
        "id": "Pv31nHm_2N9y"
      },
      "source": [
        "Now, let's create a function to find the **top n movies** for a recommendation based on the average ratings of movies. We can also add a **threshold for a minimum number of interactions** for a movie to be considered for recommendation. "
      ]
    },
    {
      "cell_type": "code",
      "execution_count": 29,
      "metadata": {
        "id": "Fy0SbxnevOOK"
      },
      "outputs": [],
      "source": [
        "def top_n_movies(data, n, min_interaction=100):\n",
        "    \n",
        "    #Finding movies with minimum number of interactions\n",
        "    recommendations = data[data['rating_count'] >= min_interaction]\n",
        "    \n",
        "    #Sorting values w.r.t average rating \n",
        "    recommendations = recommendations.sort_values(by='avg_rating', ascending=False)\n",
        "    \n",
        "    return recommendations.index[:n]"
      ]
    },
    {
      "cell_type": "markdown",
      "metadata": {
        "id": "fi9vhL4Z2N9y"
      },
      "source": [
        "We can **use this function with different n's and minimum interactions** to get movies to recommend"
      ]
    },
    {
      "cell_type": "markdown",
      "metadata": {
        "id": "hkz4LlTpvOOK"
      },
      "source": [
        "#### **Recommending top 5 movies with 50 minimum interactions based on popularity**"
      ]
    },
    {
      "cell_type": "code",
      "execution_count": 30,
      "metadata": {
        "id": "u-JX_ES9vOOK"
      },
      "outputs": [
        {
          "data": {
            "text/plain": [
              "[858, 318, 969, 913, 1221]"
            ]
          },
          "execution_count": 30,
          "metadata": {},
          "output_type": "execute_result"
        }
      ],
      "source": [
        "list(top_n_movies(final_rating, 5, 50))"
      ]
    },
    {
      "cell_type": "markdown",
      "metadata": {
        "id": "KRFTrsBVvOOK"
      },
      "source": [
        "#### **Recommending top 5 movies with 100 minimum interactions based on popularity**"
      ]
    },
    {
      "cell_type": "code",
      "execution_count": 31,
      "metadata": {
        "id": "U2wvxF2rvOOK"
      },
      "outputs": [
        {
          "data": {
            "text/plain": [
              "[858, 318, 1221, 50, 527]"
            ]
          },
          "execution_count": 31,
          "metadata": {},
          "output_type": "execute_result"
        }
      ],
      "source": [
        "list(top_n_movies(final_rating, 5, 100))"
      ]
    },
    {
      "cell_type": "markdown",
      "metadata": {
        "id": "_3SW8bLkvOOK"
      },
      "source": [
        "#### **Recommending top 5 movies with 200 minimum interactions based on popularity**"
      ]
    },
    {
      "cell_type": "code",
      "execution_count": 32,
      "metadata": {
        "id": "t6ziQvDgvOOK"
      },
      "outputs": [
        {
          "data": {
            "text/plain": [
              "[858, 318, 50, 527, 608]"
            ]
          },
          "execution_count": 32,
          "metadata": {},
          "output_type": "execute_result"
        }
      ],
      "source": [
        "list(top_n_movies(final_rating, 5, 200))"
      ]
    },
    {
      "cell_type": "markdown",
      "metadata": {
        "id": "r4vrsunx2N91"
      },
      "source": [
        "Now that we have seen **how to apply the Rank-Based Recommendation System**, let's apply the **Collaborative Filtering Based Recommendation Systems**."
      ]
    },
    {
      "attachments": {},
      "cell_type": "markdown",
      "metadata": {
        "id": "sJI5kiiGvOOK"
      },
      "source": [
        "## **Model 2: User based Collaborative Filtering Recommendation System**"
      ]
    },
    {
      "cell_type": "markdown",
      "metadata": {
        "id": "wVjPUvj82N92"
      },
      "source": [
        "![collaborative_filtering.PNG](https://raw.githubusercontent.com/GL-ACADOPS/RS-IMAGES/main/collaborative_filtering.PNG)"
      ]
    },
    {
      "cell_type": "markdown",
      "metadata": {
        "id": "H4yaWX37vOOK"
      },
      "source": [
        "In the above **interactions matrix**, out of users B and C, which user is most likely to interact with the movie, \"The Terminal\"?"
      ]
    },
    {
      "cell_type": "markdown",
      "metadata": {
        "id": "QoSujZuuvOOK"
      },
      "source": [
        "In this type of recommendation system, `we do not need any information` about the users or items. We only need user item interaction data to build a collaborative recommendation system. For example - \n",
        "<ol>\n",
        "    <li><b>Ratings</b> provided by users. For example - ratings of books on goodread, movie ratings on imdb etc</li>\n",
        "    <li><b>Likes</b> of users on different facebook posts, likes on youtube videos</li>\n",
        "    <li><b>Use/buying</b> of a product by users. For example - buying different items on e-commerce sites</li>\n",
        "    <li><b>Reading</b> of articles by readers on various blogs</li>\n",
        "</ol>"
      ]
    },
    {
      "cell_type": "markdown",
      "metadata": {
        "id": "A_3GtPzuvOOK"
      },
      "source": [
        "**Types of Collaborative Filtering**"
      ]
    },
    {
      "cell_type": "markdown",
      "metadata": {
        "id": "igZX3WbqvOOK"
      },
      "source": [
        "- Similarity/Neighborhood based\n",
        "\n",
        " * User-User Similarity Based  \n",
        " * Item-Item similarity based\n",
        "\n",
        "- Model based"
      ]
    },
    {
      "cell_type": "markdown",
      "metadata": {
        "id": "0D3MuFHqvOOK"
      },
      "source": [
        "#### **Building Similarity/Neighborhood based Collaborative Filtering**"
      ]
    },
    {
      "cell_type": "markdown",
      "metadata": {
        "id": "vyCEv8eJvOOK"
      },
      "source": [
        "![test_image](https://raw.githubusercontent.com/GL-ACADOPS/RS-IMAGES/main/cosine.PNG)"
      ]
    },
    {
      "cell_type": "markdown",
      "metadata": {
        "id": "skzc0N1_nVNB"
      },
      "source": [
        "### **Building a baseline user-user similarity based recommendation system**"
      ]
    },
    {
      "cell_type": "markdown",
      "metadata": {
        "id": "d4Uo_MYMnVNB"
      },
      "source": [
        "- Below, we are building **similarity-based recommendation systems** using `cosine` similarity and using **KNN to find similar users** which are the nearest neighbor to the given user.  \n",
        "- We will be using a new library, called `surprise`, to build the remaining models. Let's first import the necessary classes and functions from this library."
      ]
    },
    {
      "cell_type": "markdown",
      "metadata": {
        "id": "8hxjJMTwnVNB"
      },
      "source": [
        "Below we are loading the **`rating` dataset**, which is a **pandas DataFrame**, into a **different format called `surprise.dataset.DatasetAutoFolds`**, which is required by this library. To do this, we will be **using the classes `Reader` and `Dataset`**. Finally splitting the data into train and test set."
      ]
    },
    {
      "cell_type": "markdown",
      "metadata": {
        "id": "n3PpFZlW0q_d"
      },
      "source": [
        "#### **Making the dataset into surprise dataset and splitting it into train and test set**"
      ]
    },
    {
      "cell_type": "code",
      "execution_count": 33,
      "metadata": {
        "id": "rGfYDiOCpe4X"
      },
      "outputs": [],
      "source": [
        "# Instantiating Reader scale with expected rating scale\n",
        "reader = Reader(rating_scale=(0, 5))\n",
        "\n",
        "# Loading the rating dataset\n",
        "data = Dataset.load_from_df(rating[['userId', 'movieId', 'rating']], reader)\n",
        "\n",
        "# Splitting the data into train and test dataset\n",
        "trainset, testset = train_test_split(data, test_size=0.2, random_state=42)"
      ]
    },
    {
      "cell_type": "markdown",
      "metadata": {
        "id": "DmHTEt7TnVNC"
      },
      "source": [
        "#### **Build the first baseline similarity based recommendation system using cosine similarity and KNN**"
      ]
    },
    {
      "cell_type": "code",
      "execution_count": 36,
      "metadata": {
        "id": "vO3FL7iape8A"
      },
      "outputs": [
        {
          "name": "stdout",
          "output_type": "stream",
          "text": [
            "Computing the cosine similarity matrix...\n",
            "Done computing similarity matrix.\n",
            "RMSE: 0.9925\n"
          ]
        },
        {
          "data": {
            "text/plain": [
              "0.9924509041520163"
            ]
          },
          "execution_count": 36,
          "metadata": {},
          "output_type": "execute_result"
        }
      ],
      "source": [
        "sim_options = {'name': 'cosine', 'user_based': True}\n",
        "\n",
        "# Defining Nearest neighbour algorithm\n",
        "algo_knn_user = KNNBasic(sim_options=sim_options)\n",
        "\n",
        "# Train the algorithm on the trainset or fitting the model on train dataset \n",
        "algo_knn_user.fit(trainset)\n",
        "\n",
        "# Predict ratings for the testset\n",
        "predictions = algo_knn_user.test(testset)\n",
        "\n",
        "# Then compute RMSE\n",
        "accuracy.rmse(predictions)"
      ]
    },
    {
      "attachments": {},
      "cell_type": "markdown",
      "metadata": {
        "id": "yE5kvdZenVNC"
      },
      "source": [
        "- As we can see from above, these baseline model has `RMSE=0.99` on test set, we will try to improve this number later by using `GridSearchCV` tuning different hyperparameters of this algorithm"
      ]
    },
    {
      "cell_type": "markdown",
      "metadata": {
        "id": "reFD0-nsnVNC"
      },
      "source": [
        "Let's us now predict rating for an user with `userId=4` and for `movieId=10`"
      ]
    },
    {
      "cell_type": "code",
      "execution_count": 37,
      "metadata": {
        "id": "Sxd23bZ9pe_x"
      },
      "outputs": [
        {
          "name": "stdout",
          "output_type": "stream",
          "text": [
            "user: 4          item: 10         r_ui = 4.00   est = 3.62   {'actual_k': 40, 'was_impossible': False}\n"
          ]
        },
        {
          "data": {
            "text/plain": [
              "Prediction(uid=4, iid=10, r_ui=4, est=3.6244912065910952, details={'actual_k': 40, 'was_impossible': False})"
            ]
          },
          "execution_count": 37,
          "metadata": {},
          "output_type": "execute_result"
        }
      ],
      "source": [
        "algo_knn_user.predict(uid = 4, iid = 10, r_ui=4, verbose=True)"
      ]
    },
    {
      "attachments": {},
      "cell_type": "markdown",
      "metadata": {
        "id": "QuVbIR3SnVNE"
      },
      "source": [
        "- The actual rating for this user-item pair is 4 and predicted rating is `3.62` by this similarity based baseline model"
      ]
    },
    {
      "cell_type": "markdown",
      "metadata": {
        "id": "EXSgq8OEnVNE"
      },
      "source": [
        "Let's predict the rating for the same `userId=4` but for a movie which this user has not interacted before i.e. `movieId=3`"
      ]
    },
    {
      "cell_type": "code",
      "execution_count": 43,
      "metadata": {
        "id": "PbFcBj1PpfEV"
      },
      "outputs": [
        {
          "name": "stdout",
          "output_type": "stream",
          "text": [
            "user: 4          item: 3          r_ui = None   est = 3.20   {'actual_k': 40, 'was_impossible': False}\n"
          ]
        },
        {
          "data": {
            "text/plain": [
              "Prediction(uid=4, iid=3, r_ui=None, est=3.202703552548654, details={'actual_k': 40, 'was_impossible': False})"
            ]
          },
          "execution_count": 43,
          "metadata": {},
          "output_type": "execute_result"
        }
      ],
      "source": [
        "algo_knn_user.predict(uid = 4, iid = 3, verbose=True)"
      ]
    },
    {
      "attachments": {},
      "cell_type": "markdown",
      "metadata": {
        "id": "cm2xqtcQnVNE"
      },
      "source": [
        "- The estimated rating for this user-item pair is `3.20` based on this similarity based baseline model"
      ]
    },
    {
      "cell_type": "markdown",
      "metadata": {
        "id": "ejjof6csnVNF"
      },
      "source": [
        "### **Improving user-user similarity based recommendation system by tuning its hyper-parameters**"
      ]
    },
    {
      "cell_type": "markdown",
      "metadata": {
        "id": "x_kxe-_JnVNF"
      },
      "source": [
        "Below we will be tuning hyper-parmeters for the `KNNBasic` algorithms. Let's try to understand different hyperparameters of KNNBasic algorithm - "
      ]
    },
    {
      "cell_type": "markdown",
      "metadata": {
        "id": "p2j4VvfQnVNF"
      },
      "source": [
        "- **k** (int) – The (max) number of neighbors to take into account for aggregation (see this note). Default is 40.\n",
        "- **min_k** (int) – The minimum number of neighbors to take into account for aggregation. If there are not enough neighbors, the prediction is set to the global mean of all ratings. Default is 1.\n",
        "- **sim_options** (dict) – A dictionary of options for the similarity measure. And there are four similarity measures available in surprise - \n",
        "    - cosine\n",
        "    - msd (default)\n",
        "    - pearson\n",
        "    - pearson baseline\n",
        "    \n",
        "For more details please refer the official documentation https://surprise.readthedocs.io/en/stable/knn_inspired.html"
      ]
    },
    {
      "attachments": {},
      "cell_type": "markdown",
      "metadata": {
        "id": "lTLnYn_JwIBx"
      },
      "source": [
        "### **Perform hyperparameter tuning for the baseline user based collaborative filtering recommendation system and find the RMSE for tuned user based collaborative filtering recommendation system**"
      ]
    },
    {
      "cell_type": "code",
      "execution_count": 47,
      "metadata": {
        "id": "KpGhU15gpfHg"
      },
      "outputs": [
        {
          "name": "stdout",
          "output_type": "stream",
          "text": [
            "Computing the msd similarity matrix...\n",
            "Computing the msd similarity matrix...\n",
            "Computing the msd similarity matrix...\n",
            "Done computing similarity matrix.\n",
            "Done computing similarity matrix.\n",
            "Done computing similarity matrix.\n",
            "Computing the cosine similarity matrix...\n",
            "Computing the cosine similarity matrix...\n",
            "Computing the cosine similarity matrix...\n",
            "Done computing similarity matrix.\n",
            "Computing the msd similarity matrix...\n",
            "Computing the msd similarity matrix...\n",
            "Done computing similarity matrix.\n",
            "Done computing similarity matrix.\n",
            "Done computing similarity matrix.\n",
            "Done computing similarity matrix.\n",
            "Computing the msd similarity matrix...\n",
            "Done computing similarity matrix.\n",
            "Computing the cosine similarity matrix...\n",
            "Done computing similarity matrix.\n",
            "Computing the cosine similarity matrix...\n",
            "Done computing similarity matrix.\n",
            "Computing the cosine similarity matrix...\n",
            "Computing the msd similarity matrix...\n",
            "Done computing similarity matrix.\n",
            "Done computing similarity matrix.\n",
            "Computing the msd similarity matrix...\n",
            "Done computing similarity matrix.\n",
            "Computing the msd similarity matrix...\n",
            "Done computing similarity matrix.\n",
            "Computing the cosine similarity matrix...\n",
            "Done computing similarity matrix.\n",
            "Computing the cosine similarity matrix...\n",
            "Done computing similarity matrix.\n",
            "Computing the cosine similarity matrix...\n",
            "Computing the msd similarity matrix...\n",
            "Done computing similarity matrix.\n",
            "Computing the msd similarity matrix...\n",
            "Done computing similarity matrix.\n",
            "Done computing similarity matrix.\n",
            "Computing the msd similarity matrix...\n",
            "Computing the cosine similarity matrix...\n",
            "Done computing similarity matrix.\n",
            "Done computing similarity matrix.\n",
            "Computing the cosine similarity matrix...\n",
            "Computing the cosine similarity matrix...\n",
            "Done computing similarity matrix.\n",
            "Done computing similarity matrix.\n",
            "Computing the msd similarity matrix...\n",
            "Done computing similarity matrix.\n",
            "Computing the msd similarity matrix...\n",
            "Done computing similarity matrix.\n",
            "Computing the msd similarity matrix...\n",
            "Done computing similarity matrix.\n",
            "Computing the cosine similarity matrix...\n",
            "Done computing similarity matrix.\n",
            "Computing the cosine similarity matrix...\n",
            "Done computing similarity matrix.\n",
            "Computing the cosine similarity matrix...\n",
            "Computing the msd similarity matrix...\n",
            "Done computing similarity matrix.\n",
            "Done computing similarity matrix.\n",
            "Computing the msd similarity matrix...\n",
            "Done computing similarity matrix.\n",
            "Computing the msd similarity matrix...\n",
            "Computing the cosine similarity matrix...\n",
            "Done computing similarity matrix.\n",
            "Done computing similarity matrix.\n",
            "Computing the cosine similarity matrix...\n",
            "Done computing similarity matrix.\n",
            "Computing the cosine similarity matrix...\n",
            "Done computing similarity matrix.\n",
            "Computing the msd similarity matrix...\n",
            "Done computing similarity matrix.\n",
            "Computing the msd similarity matrix...\n",
            "Done computing similarity matrix.\n",
            "Computing the msd similarity matrix...\n",
            "Computing the cosine similarity matrix...\n",
            "Done computing similarity matrix.\n",
            "Done computing similarity matrix.\n",
            "Computing the cosine similarity matrix...\n",
            "Done computing similarity matrix.\n",
            "Computing the cosine similarity matrix...\n",
            "Done computing similarity matrix.\n",
            "Computing the msd similarity matrix...\n",
            "Done computing similarity matrix.\n",
            "Computing the msd similarity matrix...\n",
            "Done computing similarity matrix.\n",
            "Computing the msd similarity matrix...\n",
            "Computing the cosine similarity matrix...\n",
            "Done computing similarity matrix.\n",
            "Computing the cosine similarity matrix...\n",
            "Done computing similarity matrix.\n",
            "Done computing similarity matrix.\n",
            "Computing the cosine similarity matrix...\n",
            "Computing the msd similarity matrix...\n",
            "Done computing similarity matrix.\n",
            "Done computing similarity matrix.\n",
            "Computing the msd similarity matrix...\n",
            "Done computing similarity matrix.\n",
            "Computing the msd similarity matrix...\n",
            "Done computing similarity matrix.\n",
            "Computing the cosine similarity matrix...\n",
            "Done computing similarity matrix.\n",
            "Computing the cosine similarity matrix...\n",
            "Computing the cosine similarity matrix...\n",
            "Done computing similarity matrix.\n",
            "Done computing similarity matrix.\n",
            "0.9649949215724068\n",
            "{'k': 20, 'min_k': 3, 'sim_options': {'name': 'msd', 'user_based': True}}\n"
          ]
        }
      ],
      "source": [
        "# Setting up parameter grid to tune the hyperparameters\n",
        "param_grid = {\n",
        "    'k': [20, 30, 40], 'min_k': [3, 6, 9],\n",
        "    'sim_options': {'name': ['msd', 'cosine'],\n",
        "                    'user_based': [True]}\n",
        "    }\n",
        "\n",
        "# Performing 3-fold cross validation to tune the hyperparameters\n",
        "grid_obj = GridSearchCV(KNNBasic, param_grid, measures=['rmse', 'mae'], cv=3, n_jobs=-1, joblib_verbose=False)\n",
        "\n",
        "# Fitting the data\n",
        "grid_obj.fit(data)\n",
        "\n",
        "# Best RMSE score\n",
        "print(grid_obj.best_score['rmse'])\n",
        "\n",
        "# Combination of parameters that gave the best RMSE score\n",
        "print(grid_obj.best_params['rmse'])"
      ]
    },
    {
      "cell_type": "markdown",
      "metadata": {
        "id": "L2fHNvu7nVNF"
      },
      "source": [
        "Once the grid search is **complete**, we can get the **optimal values for each of those hyperparameters** as shown above."
      ]
    },
    {
      "cell_type": "markdown",
      "metadata": {
        "id": "h_K6yd6XnVNF"
      },
      "source": [
        "Below we are analysing evaluation metrics - RMSE and MAE at each and every split to analyze the impact of each value of hyperparameters"
      ]
    },
    {
      "cell_type": "code",
      "execution_count": 48,
      "metadata": {
        "id": "TzJxk_Z4q1A8"
      },
      "outputs": [
        {
          "data": {
            "text/html": [
              "<div>\n",
              "<style scoped>\n",
              "    .dataframe tbody tr th:only-of-type {\n",
              "        vertical-align: middle;\n",
              "    }\n",
              "\n",
              "    .dataframe tbody tr th {\n",
              "        vertical-align: top;\n",
              "    }\n",
              "\n",
              "    .dataframe thead th {\n",
              "        text-align: right;\n",
              "    }\n",
              "</style>\n",
              "<table border=\"1\" class=\"dataframe\">\n",
              "  <thead>\n",
              "    <tr style=\"text-align: right;\">\n",
              "      <th></th>\n",
              "      <th>split0_test_rmse</th>\n",
              "      <th>split1_test_rmse</th>\n",
              "      <th>split2_test_rmse</th>\n",
              "      <th>mean_test_rmse</th>\n",
              "      <th>std_test_rmse</th>\n",
              "      <th>rank_test_rmse</th>\n",
              "      <th>split0_test_mae</th>\n",
              "      <th>split1_test_mae</th>\n",
              "      <th>split2_test_mae</th>\n",
              "      <th>mean_test_mae</th>\n",
              "      <th>std_test_mae</th>\n",
              "      <th>rank_test_mae</th>\n",
              "      <th>mean_fit_time</th>\n",
              "      <th>std_fit_time</th>\n",
              "      <th>mean_test_time</th>\n",
              "      <th>std_test_time</th>\n",
              "      <th>params</th>\n",
              "      <th>param_k</th>\n",
              "      <th>param_min_k</th>\n",
              "      <th>param_sim_options</th>\n",
              "    </tr>\n",
              "  </thead>\n",
              "  <tbody>\n",
              "    <tr>\n",
              "      <th>0</th>\n",
              "      <td>0.964413</td>\n",
              "      <td>0.963311</td>\n",
              "      <td>0.967261</td>\n",
              "      <td>0.964995</td>\n",
              "      <td>0.001664</td>\n",
              "      <td>1</td>\n",
              "      <td>0.740609</td>\n",
              "      <td>0.739467</td>\n",
              "      <td>0.743170</td>\n",
              "      <td>0.741082</td>\n",
              "      <td>0.001548</td>\n",
              "      <td>1</td>\n",
              "      <td>0.055291</td>\n",
              "      <td>0.006277</td>\n",
              "      <td>1.586786</td>\n",
              "      <td>0.131984</td>\n",
              "      <td>{'k': 20, 'min_k': 3, 'sim_options': {'name': ...</td>\n",
              "      <td>20</td>\n",
              "      <td>3</td>\n",
              "      <td>{'name': 'msd', 'user_based': True}</td>\n",
              "    </tr>\n",
              "    <tr>\n",
              "      <th>1</th>\n",
              "      <td>0.992301</td>\n",
              "      <td>0.991926</td>\n",
              "      <td>0.995689</td>\n",
              "      <td>0.993305</td>\n",
              "      <td>0.001692</td>\n",
              "      <td>14</td>\n",
              "      <td>0.767089</td>\n",
              "      <td>0.765364</td>\n",
              "      <td>0.769455</td>\n",
              "      <td>0.767302</td>\n",
              "      <td>0.001677</td>\n",
              "      <td>12</td>\n",
              "      <td>0.246663</td>\n",
              "      <td>0.043975</td>\n",
              "      <td>1.507062</td>\n",
              "      <td>0.091847</td>\n",
              "      <td>{'k': 20, 'min_k': 3, 'sim_options': {'name': ...</td>\n",
              "      <td>20</td>\n",
              "      <td>3</td>\n",
              "      <td>{'name': 'cosine', 'user_based': True}</td>\n",
              "    </tr>\n",
              "    <tr>\n",
              "      <th>2</th>\n",
              "      <td>0.970390</td>\n",
              "      <td>0.962926</td>\n",
              "      <td>0.971489</td>\n",
              "      <td>0.968268</td>\n",
              "      <td>0.003804</td>\n",
              "      <td>3</td>\n",
              "      <td>0.745128</td>\n",
              "      <td>0.740303</td>\n",
              "      <td>0.746802</td>\n",
              "      <td>0.744078</td>\n",
              "      <td>0.002755</td>\n",
              "      <td>2</td>\n",
              "      <td>0.065111</td>\n",
              "      <td>0.003651</td>\n",
              "      <td>1.551238</td>\n",
              "      <td>0.127931</td>\n",
              "      <td>{'k': 20, 'min_k': 6, 'sim_options': {'name': ...</td>\n",
              "      <td>20</td>\n",
              "      <td>6</td>\n",
              "      <td>{'name': 'msd', 'user_based': True}</td>\n",
              "    </tr>\n",
              "    <tr>\n",
              "      <th>3</th>\n",
              "      <td>0.996438</td>\n",
              "      <td>0.990513</td>\n",
              "      <td>0.998490</td>\n",
              "      <td>0.995147</td>\n",
              "      <td>0.003382</td>\n",
              "      <td>15</td>\n",
              "      <td>0.770159</td>\n",
              "      <td>0.765347</td>\n",
              "      <td>0.771802</td>\n",
              "      <td>0.769103</td>\n",
              "      <td>0.002739</td>\n",
              "      <td>15</td>\n",
              "      <td>0.087948</td>\n",
              "      <td>0.007211</td>\n",
              "      <td>1.421545</td>\n",
              "      <td>0.083061</td>\n",
              "      <td>{'k': 20, 'min_k': 6, 'sim_options': {'name': ...</td>\n",
              "      <td>20</td>\n",
              "      <td>6</td>\n",
              "      <td>{'name': 'cosine', 'user_based': True}</td>\n",
              "    </tr>\n",
              "    <tr>\n",
              "      <th>4</th>\n",
              "      <td>0.976995</td>\n",
              "      <td>0.967713</td>\n",
              "      <td>0.977507</td>\n",
              "      <td>0.974072</td>\n",
              "      <td>0.004501</td>\n",
              "      <td>7</td>\n",
              "      <td>0.750846</td>\n",
              "      <td>0.744549</td>\n",
              "      <td>0.751050</td>\n",
              "      <td>0.748815</td>\n",
              "      <td>0.003018</td>\n",
              "      <td>6</td>\n",
              "      <td>0.065795</td>\n",
              "      <td>0.007441</td>\n",
              "      <td>1.620247</td>\n",
              "      <td>0.046785</td>\n",
              "      <td>{'k': 20, 'min_k': 9, 'sim_options': {'name': ...</td>\n",
              "      <td>20</td>\n",
              "      <td>9</td>\n",
              "      <td>{'name': 'msd', 'user_based': True}</td>\n",
              "    </tr>\n",
              "  </tbody>\n",
              "</table>\n",
              "</div>"
            ],
            "text/plain": [
              "   split0_test_rmse  split1_test_rmse  split2_test_rmse  mean_test_rmse   \n",
              "0          0.964413          0.963311          0.967261        0.964995  \\\n",
              "1          0.992301          0.991926          0.995689        0.993305   \n",
              "2          0.970390          0.962926          0.971489        0.968268   \n",
              "3          0.996438          0.990513          0.998490        0.995147   \n",
              "4          0.976995          0.967713          0.977507        0.974072   \n",
              "\n",
              "   std_test_rmse  rank_test_rmse  split0_test_mae  split1_test_mae   \n",
              "0       0.001664               1         0.740609         0.739467  \\\n",
              "1       0.001692              14         0.767089         0.765364   \n",
              "2       0.003804               3         0.745128         0.740303   \n",
              "3       0.003382              15         0.770159         0.765347   \n",
              "4       0.004501               7         0.750846         0.744549   \n",
              "\n",
              "   split2_test_mae  mean_test_mae  std_test_mae  rank_test_mae  mean_fit_time   \n",
              "0         0.743170       0.741082      0.001548              1       0.055291  \\\n",
              "1         0.769455       0.767302      0.001677             12       0.246663   \n",
              "2         0.746802       0.744078      0.002755              2       0.065111   \n",
              "3         0.771802       0.769103      0.002739             15       0.087948   \n",
              "4         0.751050       0.748815      0.003018              6       0.065795   \n",
              "\n",
              "   std_fit_time  mean_test_time  std_test_time   \n",
              "0      0.006277        1.586786       0.131984  \\\n",
              "1      0.043975        1.507062       0.091847   \n",
              "2      0.003651        1.551238       0.127931   \n",
              "3      0.007211        1.421545       0.083061   \n",
              "4      0.007441        1.620247       0.046785   \n",
              "\n",
              "                                              params  param_k  param_min_k   \n",
              "0  {'k': 20, 'min_k': 3, 'sim_options': {'name': ...       20            3  \\\n",
              "1  {'k': 20, 'min_k': 3, 'sim_options': {'name': ...       20            3   \n",
              "2  {'k': 20, 'min_k': 6, 'sim_options': {'name': ...       20            6   \n",
              "3  {'k': 20, 'min_k': 6, 'sim_options': {'name': ...       20            6   \n",
              "4  {'k': 20, 'min_k': 9, 'sim_options': {'name': ...       20            9   \n",
              "\n",
              "                        param_sim_options  \n",
              "0     {'name': 'msd', 'user_based': True}  \n",
              "1  {'name': 'cosine', 'user_based': True}  \n",
              "2     {'name': 'msd', 'user_based': True}  \n",
              "3  {'name': 'cosine', 'user_based': True}  \n",
              "4     {'name': 'msd', 'user_based': True}  "
            ]
          },
          "execution_count": 48,
          "metadata": {},
          "output_type": "execute_result"
        }
      ],
      "source": [
        "results_df = pd.DataFrame.from_dict(grid_obj.cv_results)\n",
        "results_df.head()"
      ]
    },
    {
      "cell_type": "markdown",
      "metadata": {
        "id": "NHWgxu_YnVNG"
      },
      "source": [
        "Now, let's build the **final model by using tuned values of the hyperparameters**, which we received by using **grid search cross-validation**.\n",
        "\n"
      ]
    },
    {
      "cell_type": "code",
      "execution_count": null,
      "metadata": {
        "id": "PujRJA8X_JEJ"
      },
      "outputs": [
        {
          "name": "stdout",
          "output_type": "stream",
          "text": [
            "RMSE: 0.9571\n"
          ]
        },
        {
          "data": {
            "text/plain": [
              "0.9571445417153293"
            ]
          },
          "execution_count": 49,
          "metadata": {},
          "output_type": "execute_result"
        }
      ],
      "source": [
        "# Using the optimal similarity measure for user-user based collaborative filtering\n",
        "# Creating an instance of KNNBasic with optimal hyperparameter values\n",
        "# {'k': 20, 'min_k': 3, 'sim_options': {'name': 'msd', 'user_based': True}}\n",
        "sim_options = {'name': 'msd', 'user_based': True}\n",
        "\n",
        "similarity_algo_optimized_user = KNNBasic(k = 20, min_k = 3, sim_options=sim_options,verbose=False)\n",
        "\n",
        "# Training the algorithm on the trainset\n",
        "similarity_algo_optimized_user.fit(trainset)\n",
        "\n",
        "# Predicting ratings for the testset\n",
        "predictions = similarity_algo_optimized_user.test(testset)\n",
        "\n",
        "# Computing RMSE on testset\n",
        "accuracy.rmse(predictions)"
      ]
    },
    {
      "attachments": {},
      "cell_type": "markdown",
      "metadata": {
        "id": "YA37vQ6qnVNG"
      },
      "source": [
        "- After tuning hyperparameters, RMSE for testset has reduced to `0.96` from `0.99`. We can say that we have been able to improve the model after hyperparameter tuning"
      ]
    },
    {
      "attachments": {},
      "cell_type": "markdown",
      "metadata": {
        "id": "3gZQybgVwIB1"
      },
      "source": [
        "### **What is the Predicted rating for an user with userId =4 and for movieId= 10 and movieId=3 using tuned user based collaborative filtering?**"
      ]
    },
    {
      "cell_type": "markdown",
      "metadata": {
        "id": "YhcAXK0CnVNG"
      },
      "source": [
        "Let's us now predict rating for an user with `userId=4` and for `movieId=10` with the optimized model"
      ]
    },
    {
      "cell_type": "code",
      "execution_count": 51,
      "metadata": {
        "id": "FgV63lHiq1TV"
      },
      "outputs": [
        {
          "name": "stdout",
          "output_type": "stream",
          "text": [
            "user: 4          item: 10         r_ui = 4.00   est = 3.74   {'actual_k': 20, 'was_impossible': False}\n"
          ]
        },
        {
          "data": {
            "text/plain": [
              "Prediction(uid=4, iid=10, r_ui=4, est=3.740028692988536, details={'actual_k': 20, 'was_impossible': False})"
            ]
          },
          "execution_count": 51,
          "metadata": {},
          "output_type": "execute_result"
        }
      ],
      "source": [
        "similarity_algo_optimized_user.predict(uid=4,iid=10, r_ui=4, verbose=True)"
      ]
    },
    {
      "attachments": {},
      "cell_type": "markdown",
      "metadata": {
        "id": "AMBeqeUtnVNG"
      },
      "source": [
        "- If we compare the above predicted rating, we can see the baseline model predicted rating as `3.62` and the optimized model predicted the rating as `3.74`."
      ]
    },
    {
      "cell_type": "markdown",
      "metadata": {
        "id": "P1JLqz6mnVNH"
      },
      "source": [
        "Below we are predicting rating for the same `userId=4` but for a movie which this user has not interacted before i.e. `movieId=3`, by using the optimized model as shown below - "
      ]
    },
    {
      "cell_type": "code",
      "execution_count": 52,
      "metadata": {
        "id": "HXO2Ztjhq1bN"
      },
      "outputs": [
        {
          "name": "stdout",
          "output_type": "stream",
          "text": [
            "user: 4          item: 3          r_ui = None   est = 3.72   {'actual_k': 20, 'was_impossible': False}\n"
          ]
        },
        {
          "data": {
            "text/plain": [
              "Prediction(uid=4, iid=3, r_ui=None, est=3.7228745701935386, details={'actual_k': 20, 'was_impossible': False})"
            ]
          },
          "execution_count": 52,
          "metadata": {},
          "output_type": "execute_result"
        }
      ],
      "source": [
        "similarity_algo_optimized_user.predict(uid=4,iid=3, verbose=True)"
      ]
    },
    {
      "attachments": {},
      "cell_type": "markdown",
      "metadata": {
        "id": "PN_tYvepnVNH"
      },
      "source": [
        "- Compare the above predicted rating, we can see the baseline model predicted rating as `3.20` and the optimized model predicted the rating as `3.72`."
      ]
    },
    {
      "cell_type": "markdown",
      "metadata": {
        "id": "o2QsfqhanVNH"
      },
      "source": [
        "### **Identifying similar users to a given user (nearest neighbors)**\n",
        "\n",
        "We can also find out the similar users to a given user or its nearest neighbors based on this KNNBasic algorithm. Below we are finding 5 most similar user to the `userId=4` based on the `msd` distance metric"
      ]
    },
    {
      "cell_type": "code",
      "execution_count": 53,
      "metadata": {
        "id": "evkmTb6P5HYO"
      },
      "outputs": [
        {
          "data": {
            "text/plain": [
              "[665, 417, 647, 654, 260]"
            ]
          },
          "execution_count": 53,
          "metadata": {},
          "output_type": "execute_result"
        }
      ],
      "source": [
        "similarity_algo_optimized_user.get_neighbors(4, k=5)"
      ]
    },
    {
      "cell_type": "markdown",
      "metadata": {
        "id": "Z0NsrX_anVNH"
      },
      "source": [
        "### **Implementing the recommendation algorithm based on optimized KNNBasic model**"
      ]
    },
    {
      "cell_type": "markdown",
      "metadata": {
        "id": "U3ESobDynVNI"
      },
      "source": [
        "Below we will be implementing a function where the input parameters are - \n",
        "\n",
        "- data: a rating dataset\n",
        "- user_id: an user id against which we want the recommendations\n",
        "- top_n: the number of movies we want to recommend\n",
        "- algo: the algorithm we want to use to predict the ratings"
      ]
    },
    {
      "cell_type": "code",
      "execution_count": 54,
      "metadata": {
        "id": "vW9V1Tk65HlY"
      },
      "outputs": [],
      "source": [
        "def get_recommendations(data, user_id, top_n, algo):\n",
        "    \n",
        "    # Creating an empty list to store the recommended movie ids\n",
        "    recommendations = []\n",
        "    \n",
        "    # Creating an user item interactions matrix \n",
        "    user_item_interactions_matrix = data.pivot(index='userId', columns='movieId', values='rating')\n",
        "    \n",
        "    # Extracting those movie ids which the user_id has not interacted yet\n",
        "    non_interacted_movies = user_item_interactions_matrix.loc[user_id][user_item_interactions_matrix.loc[user_id].isnull()].index.tolist()\n",
        "    \n",
        "    # Looping through each of the movie id which user_id has not interacted yet\n",
        "    for item_id in non_interacted_movies:\n",
        "        \n",
        "        # Predicting the ratings for those non interacted movie ids by this user\n",
        "        est = algo.predict(user_id, item_id).est\n",
        "        \n",
        "        # Appending the predicted ratings\n",
        "        recommendations.append((item_id, est))\n",
        "\n",
        "    # Sorting the predicted ratings in descending order\n",
        "    recommendations.sort(key=lambda x: x[1], reverse=True)\n",
        "\n",
        "    return recommendations[:top_n] # returing top n highest predicted rating movies for this user"
      ]
    },
    {
      "cell_type": "markdown",
      "metadata": {
        "id": "Oj_S7kh4nVNI"
      },
      "source": [
        "#### **Predicted top 5 movies for userId=4 with similarity based recommendation system**"
      ]
    },
    {
      "cell_type": "code",
      "execution_count": 55,
      "metadata": {
        "id": "qWbR85mI5Hrk"
      },
      "outputs": [],
      "source": [
        "recommendations = get_recommendations(rating,4,5,similarity_algo_optimized_user)"
      ]
    },
    {
      "attachments": {},
      "cell_type": "markdown",
      "metadata": {
        "id": "33GchLEiwICA"
      },
      "source": [
        "### **Predict the top 5 movies for userId=4 with similarity based recommendation system (1 Mark)**"
      ]
    },
    {
      "cell_type": "code",
      "execution_count": 56,
      "metadata": {
        "id": "b5WfIX0Z6_q2"
      },
      "outputs": [
        {
          "data": {
            "text/plain": [
              "[(309, 5),\n",
              " (3038, 5),\n",
              " (6273, 4.928202652354184),\n",
              " (98491, 4.863224466679252),\n",
              " (2721, 4.845513973527148)]"
            ]
          },
          "execution_count": 56,
          "metadata": {},
          "output_type": "execute_result"
        }
      ],
      "source": [
        "recommendations"
      ]
    },
    {
      "attachments": {},
      "cell_type": "markdown",
      "metadata": {
        "id": "pqm4J6aQwICB"
      },
      "source": [
        "## **Model 3: Item based Collaborative Filtering Recommendation System**"
      ]
    },
    {
      "cell_type": "code",
      "execution_count": 57,
      "metadata": {
        "id": "fa8W64l5wICB"
      },
      "outputs": [
        {
          "name": "stdout",
          "output_type": "stream",
          "text": [
            "RMSE: 1.0032\n"
          ]
        },
        {
          "data": {
            "text/plain": [
              "1.003221450633729"
            ]
          },
          "execution_count": 57,
          "metadata": {},
          "output_type": "execute_result"
        }
      ],
      "source": [
        "# Definfing similarity measure\n",
        "sim_options = {'name': 'cosine', 'user_based': False}\n",
        "\n",
        "# Defining Nearest neighbour algorithm\n",
        "algo_knn_item = KNNBasic(sim_options=sim_options,verbose=False)\n",
        "\n",
        "# Train the algorithm on the trainset or fitting the model on train dataset \n",
        "algo_knn_item.fit(trainset)\n",
        "\n",
        "# Predict ratings for the testset\n",
        "predictions = algo_knn_item.test(testset)\n",
        "\n",
        "# Then compute RMSE\n",
        "accuracy.rmse(predictions)"
      ]
    },
    {
      "attachments": {},
      "cell_type": "markdown",
      "metadata": {
        "id": "oW6HXjoVwICC"
      },
      "source": [
        "### **What is the RMSE for baseline item based collaborative filtering recommendation system ?(1 Mark)**"
      ]
    },
    {
      "attachments": {},
      "cell_type": "markdown",
      "metadata": {
        "id": "dsagkpFDwICD"
      },
      "source": [
        "- As we can see from above, these baseline model has `RMSE=1.003` on test set, we will try to improve this number later by using `GridSearchCV` tuning different hyperparameters of this algorithm\n",
        "\n"
      ]
    },
    {
      "cell_type": "markdown",
      "metadata": {
        "id": "uXRReHXt2UD8"
      },
      "source": [
        "Let's us now predict rating for an user with `userId=4` and for `movieId=10`"
      ]
    },
    {
      "attachments": {},
      "cell_type": "markdown",
      "metadata": {
        "id": "egyW6VMYwICD"
      },
      "source": [
        "### **What is the Predicted  rating for an user with userId =4 and for movieId= 10 and movieId=3? (1 Mark)**"
      ]
    },
    {
      "cell_type": "code",
      "execution_count": 58,
      "metadata": {
        "id": "RmzxmaDbwICE",
        "scrolled": true
      },
      "outputs": [
        {
          "name": "stdout",
          "output_type": "stream",
          "text": [
            "user: 4          item: 10         r_ui = 4.00   est = 4.37   {'actual_k': 40, 'was_impossible': False}\n"
          ]
        },
        {
          "data": {
            "text/plain": [
              "Prediction(uid=4, iid=10, r_ui=4, est=4.373794871885004, details={'actual_k': 40, 'was_impossible': False})"
            ]
          },
          "execution_count": 58,
          "metadata": {},
          "output_type": "execute_result"
        }
      ],
      "source": [
        "algo_knn_item.predict(uid=4,iid=10, r_ui=4, verbose=True)"
      ]
    },
    {
      "attachments": {},
      "cell_type": "markdown",
      "metadata": {
        "id": "fyPeJdK6wICF"
      },
      "source": [
        "- The actual rating for this user-item pair is 4 and predicted rating is `4.37` by this similarity based baseline model\n"
      ]
    },
    {
      "cell_type": "markdown",
      "metadata": {
        "id": "CTSx7Wl5wICG"
      },
      "source": [
        "Let's predict  the rating for the same `userId=4` but for a movie which this user has not interacted before i.e. `movieId=3`"
      ]
    },
    {
      "cell_type": "code",
      "execution_count": 59,
      "metadata": {
        "id": "-l8G1XG5wICG"
      },
      "outputs": [
        {
          "name": "stdout",
          "output_type": "stream",
          "text": [
            "user: 4          item: 3          r_ui = None   est = 4.07   {'actual_k': 40, 'was_impossible': False}\n"
          ]
        },
        {
          "data": {
            "text/plain": [
              "Prediction(uid=4, iid=3, r_ui=None, est=4.071601862880049, details={'actual_k': 40, 'was_impossible': False})"
            ]
          },
          "execution_count": 59,
          "metadata": {},
          "output_type": "execute_result"
        }
      ],
      "source": [
        "algo_knn_item.predict(uid=4,iid=3, verbose=True)"
      ]
    },
    {
      "attachments": {},
      "cell_type": "markdown",
      "metadata": {
        "id": "WKqI9IyhwICH"
      },
      "source": [
        "- The estimated rating for this user-item pair is `4.07` based on this similarity based baseline model\n"
      ]
    },
    {
      "attachments": {},
      "cell_type": "markdown",
      "metadata": {
        "id": "utHBZ67JwICI"
      },
      "source": [
        "### **Perform hyperparameter tuning for the baseline item based collaborative filtering recommendation system and find the RMSE for tuned item based collaborative filtering recommendation system?**"
      ]
    },
    {
      "cell_type": "code",
      "execution_count": 60,
      "metadata": {
        "id": "0ZmIvW--wICJ"
      },
      "outputs": [
        {
          "name": "stdout",
          "output_type": "stream",
          "text": [
            "Computing the msd similarity matrix...\n",
            "Computing the msd similarity matrix...\n",
            "Computing the msd similarity matrix...\n",
            "Computing the cosine similarity matrix...\n",
            "Computing the cosine similarity matrix...\n",
            "Computing the cosine similarity matrix...\n",
            "Computing the msd similarity matrix...\n",
            "Computing the msd similarity matrix...\n",
            "Done computing similarity matrix.\n",
            "Done computing similarity matrix.\n",
            "Done computing similarity matrix.\n",
            "Done computing similarity matrix.\n",
            "Done computing similarity matrix.\n",
            "Done computing similarity matrix.\n",
            "Done computing similarity matrix.\n",
            "Done computing similarity matrix.\n",
            "Computing the msd similarity matrix...\n",
            "Computing the cosine similarity matrix...\n",
            "Computing the cosine similarity matrix...\n",
            "Computing the cosine similarity matrix...\n",
            "Computing the msd similarity matrix...\n",
            "Done computing similarity matrix.\n",
            "Done computing similarity matrix.\n",
            "Computing the msd similarity matrix...\n",
            "Computing the msd similarity matrix...\n",
            "Computing the cosine similarity matrix...\n",
            "Computing the cosine similarity matrix...\n",
            "Computing the cosine similarity matrix...\n",
            "Done computing similarity matrix.\n",
            "Done computing similarity matrix.\n",
            "Done computing similarity matrix.\n",
            "Done computing similarity matrix.\n",
            "Done computing similarity matrix.\n",
            "Computing the msd similarity matrix...\n",
            "Computing the msd similarity matrix...\n",
            "Done computing similarity matrix.\n",
            "Computing the msd similarity matrix...\n",
            "Computing the cosine similarity matrix...\n",
            "Computing the cosine similarity matrix...\n",
            "Done computing similarity matrix.\n",
            "Done computing similarity matrix.\n",
            "Done computing similarity matrix.\n",
            "Done computing similarity matrix.\n",
            "Done computing similarity matrix.\n",
            "Computing the cosine similarity matrix...\n",
            "Computing the msd similarity matrix...\n",
            "Computing the msd similarity matrix...\n",
            "Computing the msd similarity matrix...\n",
            "Computing the cosine similarity matrix...\n",
            "Computing the cosine similarity matrix...\n",
            "Done computing similarity matrix.\n",
            "Done computing similarity matrix.\n",
            "Done computing similarity matrix.\n",
            "Done computing similarity matrix.\n",
            "Done computing similarity matrix.\n",
            "Done computing similarity matrix.\n",
            "Computing the cosine similarity matrix...\n",
            "Computing the msd similarity matrix...\n",
            "Computing the msd similarity matrix...\n",
            "Computing the msd similarity matrix...\n",
            "Computing the cosine similarity matrix...\n",
            "Done computing similarity matrix.\n",
            "Done computing similarity matrix.\n",
            "Done computing similarity matrix.\n",
            "Computing the cosine similarity matrix...\n",
            "Done computing similarity matrix.\n",
            "Done computing similarity matrix.\n",
            "Computing the cosine similarity matrix...\n",
            "Computing the msd similarity matrix...\n",
            "Computing the msd similarity matrix...\n",
            "Done computing similarity matrix.\n",
            "Computing the msd similarity matrix...\n",
            "Computing the cosine similarity matrix...\n",
            "Done computing similarity matrix.\n",
            "Done computing similarity matrix.\n",
            "Done computing similarity matrix.\n",
            "Done computing similarity matrix.\n",
            "Computing the cosine similarity matrix...\n",
            "Done computing similarity matrix.\n",
            "Done computing similarity matrix.\n",
            "Computing the cosine similarity matrix...\n",
            "Computing the msd similarity matrix...\n",
            "Computing the msd similarity matrix...\n",
            "Computing the msd similarity matrix...\n",
            "Computing the cosine similarity matrix...\n",
            "Done computing similarity matrix.\n",
            "Done computing similarity matrix.\n",
            "Done computing similarity matrix.\n",
            "Computing the cosine similarity matrix...\n",
            "Done computing similarity matrix.\n",
            "Done computing similarity matrix.\n",
            "Computing the cosine similarity matrix...\n",
            "Done computing similarity matrix.\n",
            "Computing the msd similarity matrix...\n",
            "Computing the msd similarity matrix...\n",
            "Computing the msd similarity matrix...\n",
            "Computing the cosine similarity matrix...\n",
            "Done computing similarity matrix.\n",
            "Done computing similarity matrix.\n",
            "Done computing similarity matrix.\n",
            "Done computing similarity matrix.\n",
            "Computing the cosine similarity matrix...\n",
            "Done computing similarity matrix.\n",
            "Computing the cosine similarity matrix...\n",
            "Done computing similarity matrix.\n",
            "Done computing similarity matrix.\n",
            "Done computing similarity matrix.\n",
            "Done computing similarity matrix.\n",
            "0.9401381255092026\n",
            "{'k': 40, 'min_k': 6, 'sim_options': {'name': 'msd', 'user_based': False}}\n"
          ]
        }
      ],
      "source": [
        "# Setting up parameter grid to tune the hyperparameters\n",
        "param_grid = {\n",
        "    'k': [20, 30,40], 'min_k': [3,6,9],\n",
        "    'sim_options': {'name': ['msd', 'cosine'],\n",
        "                    'user_based': [False]}\n",
        "}\n",
        "\n",
        "# Performing 3-fold cross validation to tune the hyperparameters\n",
        "grid_obj = GridSearchCV(KNNBasic, param_grid=param_grid, measures=['rmse', 'mae'], cv=3, n_jobs=-1)\n",
        "\n",
        "# Fitting the data\n",
        "grid_obj.fit(data)\n",
        "\n",
        "# Best RMSE score\n",
        "print(grid_obj.best_score['rmse'])\n",
        "\n",
        "# Combination of parameters that gave the best RMSE score\n",
        "print(grid_obj.best_params['rmse'])"
      ]
    },
    {
      "cell_type": "markdown",
      "metadata": {
        "id": "_uAej6IMwICK"
      },
      "source": [
        "Once the **grid search** is complete, we can get the **optimal values for each of those hyperparameters as shown above**"
      ]
    },
    {
      "cell_type": "markdown",
      "metadata": {
        "id": "2W3LQWA9wICK"
      },
      "source": [
        "Below we are analysing evaluation metrics - RMSE and MAE at each and every split to analyze the impact of each value of hyperparameters"
      ]
    },
    {
      "cell_type": "code",
      "execution_count": 61,
      "metadata": {
        "id": "ITKMae3LwICL",
        "scrolled": false
      },
      "outputs": [
        {
          "data": {
            "text/html": [
              "<div>\n",
              "<style scoped>\n",
              "    .dataframe tbody tr th:only-of-type {\n",
              "        vertical-align: middle;\n",
              "    }\n",
              "\n",
              "    .dataframe tbody tr th {\n",
              "        vertical-align: top;\n",
              "    }\n",
              "\n",
              "    .dataframe thead th {\n",
              "        text-align: right;\n",
              "    }\n",
              "</style>\n",
              "<table border=\"1\" class=\"dataframe\">\n",
              "  <thead>\n",
              "    <tr style=\"text-align: right;\">\n",
              "      <th></th>\n",
              "      <th>split0_test_rmse</th>\n",
              "      <th>split1_test_rmse</th>\n",
              "      <th>split2_test_rmse</th>\n",
              "      <th>mean_test_rmse</th>\n",
              "      <th>std_test_rmse</th>\n",
              "      <th>rank_test_rmse</th>\n",
              "      <th>split0_test_mae</th>\n",
              "      <th>split1_test_mae</th>\n",
              "      <th>split2_test_mae</th>\n",
              "      <th>mean_test_mae</th>\n",
              "      <th>std_test_mae</th>\n",
              "      <th>rank_test_mae</th>\n",
              "      <th>mean_fit_time</th>\n",
              "      <th>std_fit_time</th>\n",
              "      <th>mean_test_time</th>\n",
              "      <th>std_test_time</th>\n",
              "      <th>params</th>\n",
              "      <th>param_k</th>\n",
              "      <th>param_min_k</th>\n",
              "      <th>param_sim_options</th>\n",
              "    </tr>\n",
              "  </thead>\n",
              "  <tbody>\n",
              "    <tr>\n",
              "      <th>0</th>\n",
              "      <td>0.955899</td>\n",
              "      <td>0.947195</td>\n",
              "      <td>0.948442</td>\n",
              "      <td>0.950512</td>\n",
              "      <td>0.003843</td>\n",
              "      <td>8</td>\n",
              "      <td>0.738107</td>\n",
              "      <td>0.730990</td>\n",
              "      <td>0.732139</td>\n",
              "      <td>0.733745</td>\n",
              "      <td>0.003119</td>\n",
              "      <td>7</td>\n",
              "      <td>16.588878</td>\n",
              "      <td>0.222011</td>\n",
              "      <td>11.037648</td>\n",
              "      <td>0.126570</td>\n",
              "      <td>{'k': 20, 'min_k': 3, 'sim_options': {'name': ...</td>\n",
              "      <td>20</td>\n",
              "      <td>3</td>\n",
              "      <td>{'name': 'msd', 'user_based': False}</td>\n",
              "    </tr>\n",
              "    <tr>\n",
              "      <th>1</th>\n",
              "      <td>1.018337</td>\n",
              "      <td>1.012213</td>\n",
              "      <td>1.016278</td>\n",
              "      <td>1.015610</td>\n",
              "      <td>0.002545</td>\n",
              "      <td>17</td>\n",
              "      <td>0.795438</td>\n",
              "      <td>0.788908</td>\n",
              "      <td>0.792707</td>\n",
              "      <td>0.792351</td>\n",
              "      <td>0.002678</td>\n",
              "      <td>16</td>\n",
              "      <td>26.843202</td>\n",
              "      <td>0.245853</td>\n",
              "      <td>10.421284</td>\n",
              "      <td>0.170457</td>\n",
              "      <td>{'k': 20, 'min_k': 3, 'sim_options': {'name': ...</td>\n",
              "      <td>20</td>\n",
              "      <td>3</td>\n",
              "      <td>{'name': 'cosine', 'user_based': False}</td>\n",
              "    </tr>\n",
              "    <tr>\n",
              "      <th>2</th>\n",
              "      <td>0.956038</td>\n",
              "      <td>0.947150</td>\n",
              "      <td>0.947917</td>\n",
              "      <td>0.950369</td>\n",
              "      <td>0.004021</td>\n",
              "      <td>7</td>\n",
              "      <td>0.738396</td>\n",
              "      <td>0.731024</td>\n",
              "      <td>0.731962</td>\n",
              "      <td>0.733794</td>\n",
              "      <td>0.003277</td>\n",
              "      <td>8</td>\n",
              "      <td>13.358064</td>\n",
              "      <td>4.557027</td>\n",
              "      <td>11.164239</td>\n",
              "      <td>1.033375</td>\n",
              "      <td>{'k': 20, 'min_k': 6, 'sim_options': {'name': ...</td>\n",
              "      <td>20</td>\n",
              "      <td>6</td>\n",
              "      <td>{'name': 'msd', 'user_based': False}</td>\n",
              "    </tr>\n",
              "    <tr>\n",
              "      <th>3</th>\n",
              "      <td>1.018617</td>\n",
              "      <td>1.012383</td>\n",
              "      <td>1.015809</td>\n",
              "      <td>1.015603</td>\n",
              "      <td>0.002549</td>\n",
              "      <td>16</td>\n",
              "      <td>0.795780</td>\n",
              "      <td>0.789114</td>\n",
              "      <td>0.792569</td>\n",
              "      <td>0.792488</td>\n",
              "      <td>0.002722</td>\n",
              "      <td>17</td>\n",
              "      <td>24.550980</td>\n",
              "      <td>0.035552</td>\n",
              "      <td>10.289332</td>\n",
              "      <td>0.157289</td>\n",
              "      <td>{'k': 20, 'min_k': 6, 'sim_options': {'name': ...</td>\n",
              "      <td>20</td>\n",
              "      <td>6</td>\n",
              "      <td>{'name': 'cosine', 'user_based': False}</td>\n",
              "    </tr>\n",
              "    <tr>\n",
              "      <th>4</th>\n",
              "      <td>0.956588</td>\n",
              "      <td>0.947783</td>\n",
              "      <td>0.949363</td>\n",
              "      <td>0.951245</td>\n",
              "      <td>0.003833</td>\n",
              "      <td>9</td>\n",
              "      <td>0.738877</td>\n",
              "      <td>0.731489</td>\n",
              "      <td>0.732814</td>\n",
              "      <td>0.734394</td>\n",
              "      <td>0.003216</td>\n",
              "      <td>9</td>\n",
              "      <td>10.159588</td>\n",
              "      <td>1.959278</td>\n",
              "      <td>12.176784</td>\n",
              "      <td>0.519472</td>\n",
              "      <td>{'k': 20, 'min_k': 9, 'sim_options': {'name': ...</td>\n",
              "      <td>20</td>\n",
              "      <td>9</td>\n",
              "      <td>{'name': 'msd', 'user_based': False}</td>\n",
              "    </tr>\n",
              "  </tbody>\n",
              "</table>\n",
              "</div>"
            ],
            "text/plain": [
              "   split0_test_rmse  split1_test_rmse  split2_test_rmse  mean_test_rmse   \n",
              "0          0.955899          0.947195          0.948442        0.950512  \\\n",
              "1          1.018337          1.012213          1.016278        1.015610   \n",
              "2          0.956038          0.947150          0.947917        0.950369   \n",
              "3          1.018617          1.012383          1.015809        1.015603   \n",
              "4          0.956588          0.947783          0.949363        0.951245   \n",
              "\n",
              "   std_test_rmse  rank_test_rmse  split0_test_mae  split1_test_mae   \n",
              "0       0.003843               8         0.738107         0.730990  \\\n",
              "1       0.002545              17         0.795438         0.788908   \n",
              "2       0.004021               7         0.738396         0.731024   \n",
              "3       0.002549              16         0.795780         0.789114   \n",
              "4       0.003833               9         0.738877         0.731489   \n",
              "\n",
              "   split2_test_mae  mean_test_mae  std_test_mae  rank_test_mae  mean_fit_time   \n",
              "0         0.732139       0.733745      0.003119              7      16.588878  \\\n",
              "1         0.792707       0.792351      0.002678             16      26.843202   \n",
              "2         0.731962       0.733794      0.003277              8      13.358064   \n",
              "3         0.792569       0.792488      0.002722             17      24.550980   \n",
              "4         0.732814       0.734394      0.003216              9      10.159588   \n",
              "\n",
              "   std_fit_time  mean_test_time  std_test_time   \n",
              "0      0.222011       11.037648       0.126570  \\\n",
              "1      0.245853       10.421284       0.170457   \n",
              "2      4.557027       11.164239       1.033375   \n",
              "3      0.035552       10.289332       0.157289   \n",
              "4      1.959278       12.176784       0.519472   \n",
              "\n",
              "                                              params  param_k  param_min_k   \n",
              "0  {'k': 20, 'min_k': 3, 'sim_options': {'name': ...       20            3  \\\n",
              "1  {'k': 20, 'min_k': 3, 'sim_options': {'name': ...       20            3   \n",
              "2  {'k': 20, 'min_k': 6, 'sim_options': {'name': ...       20            6   \n",
              "3  {'k': 20, 'min_k': 6, 'sim_options': {'name': ...       20            6   \n",
              "4  {'k': 20, 'min_k': 9, 'sim_options': {'name': ...       20            9   \n",
              "\n",
              "                         param_sim_options  \n",
              "0     {'name': 'msd', 'user_based': False}  \n",
              "1  {'name': 'cosine', 'user_based': False}  \n",
              "2     {'name': 'msd', 'user_based': False}  \n",
              "3  {'name': 'cosine', 'user_based': False}  \n",
              "4     {'name': 'msd', 'user_based': False}  "
            ]
          },
          "execution_count": 61,
          "metadata": {},
          "output_type": "execute_result"
        }
      ],
      "source": [
        "results_df = pd.DataFrame.from_dict(grid_obj.cv_results)\n",
        "results_df.head()"
      ]
    },
    {
      "cell_type": "markdown",
      "metadata": {
        "id": "rJkmvdsf2rUt"
      },
      "source": [
        "Now let's build the **final model** by using **tuned values of the hyperparameters** which we received by using grid search cross-validation."
      ]
    },
    {
      "cell_type": "code",
      "execution_count": 62,
      "metadata": {
        "id": "46irii4pwICL"
      },
      "outputs": [
        {
          "name": "stdout",
          "output_type": "stream",
          "text": [
            "RMSE: 0.9430\n"
          ]
        },
        {
          "data": {
            "text/plain": [
              "0.9430205750839428"
            ]
          },
          "execution_count": 62,
          "metadata": {},
          "output_type": "execute_result"
        }
      ],
      "source": [
        "# Creating an instance of KNNBasic with optimal hyperparameter values\n",
        "\n",
        "# {'k': 40, 'min_k': 6, 'sim_options': {'name': 'msd', 'user_based': False}}\n",
        "\n",
        "sim_options = {'name': 'msd', 'user_based': False}\n",
        "\n",
        "similarity_algo_optimized_item = KNNBasic(sim_options=sim_options, k=40, min_k=6,verbose=False)\n",
        "\n",
        "# Training the algorithm on the trainset\n",
        "similarity_algo_optimized_item.fit(trainset)\n",
        "\n",
        "# Predicting ratings for the testset\n",
        "predictions = similarity_algo_optimized_item.test(testset)\n",
        "\n",
        "# Computing RMSE on testset\n",
        "accuracy.rmse(predictions)"
      ]
    },
    {
      "attachments": {},
      "cell_type": "markdown",
      "metadata": {
        "id": "OTdrMpQUwICM"
      },
      "source": [
        "- After tuning the model, the RMSE for testset has reduced to `0.94` from `1.003`. We can say that we have been able to improve the model after hyperparameter tuning."
      ]
    },
    {
      "attachments": {},
      "cell_type": "markdown",
      "metadata": {
        "id": "tiDcRQDvwICN"
      },
      "source": [
        "### **What is the Predicted rating for an item with userId =4 and for movieId= 10 and movieId=3 using tuned item based collaborative filtering?**"
      ]
    },
    {
      "cell_type": "markdown",
      "metadata": {
        "id": "5IGjjEtpwICN"
      },
      "source": [
        "Let's us now predict rating for an user with `userId=4` and for `movieId=10` with the optimized model as shown below"
      ]
    },
    {
      "cell_type": "code",
      "execution_count": 63,
      "metadata": {
        "id": "Wg8APEG4wICO"
      },
      "outputs": [
        {
          "name": "stdout",
          "output_type": "stream",
          "text": [
            "user: 4          item: 10         r_ui = 4.00   est = 4.26   {'actual_k': 40, 'was_impossible': False}\n"
          ]
        },
        {
          "data": {
            "text/plain": [
              "Prediction(uid=4, iid=10, r_ui=4, est=4.255054787154994, details={'actual_k': 40, 'was_impossible': False})"
            ]
          },
          "execution_count": 63,
          "metadata": {},
          "output_type": "execute_result"
        }
      ],
      "source": [
        "similarity_algo_optimized_item.predict(uid = 4,iid=10, r_ui=4, verbose=True)"
      ]
    },
    {
      "attachments": {},
      "cell_type": "markdown",
      "metadata": {
        "id": "qUXl61_5wICP"
      },
      "source": [
        "- If we compare the above predicted rating, we can see the baseline model predicted rating as `4.37` and the optimized model predicted the rating as `4.26`. whereas the actual rating is `4.0`."
      ]
    },
    {
      "cell_type": "markdown",
      "metadata": {
        "id": "HDNNs3cqwICP"
      },
      "source": [
        "Let's predict the rating for the same `userId=4` but for a movie which this user has not interacted before i.e. `movieId=3`, by using the optimized model:"
      ]
    },
    {
      "cell_type": "code",
      "execution_count": 64,
      "metadata": {
        "id": "oEew8TwvwICQ"
      },
      "outputs": [
        {
          "name": "stdout",
          "output_type": "stream",
          "text": [
            "user: 4          item: 3          r_ui = None   est = 3.87   {'actual_k': 40, 'was_impossible': False}\n"
          ]
        },
        {
          "data": {
            "text/plain": [
              "Prediction(uid=4, iid=3, r_ui=None, est=3.865175609312417, details={'actual_k': 40, 'was_impossible': False})"
            ]
          },
          "execution_count": 64,
          "metadata": {},
          "output_type": "execute_result"
        }
      ],
      "source": [
        "similarity_algo_optimized_item.predict(uid=4,iid= 3, verbose=True)"
      ]
    },
    {
      "attachments": {},
      "cell_type": "markdown",
      "metadata": {
        "id": "sTKvXHU0wICR"
      },
      "source": [
        "- If we compare the above predicted rating, we can see the baseline model predicted rating as `4.07` and the optimized model predicted the rating as `3.87`."
      ]
    },
    {
      "cell_type": "markdown",
      "metadata": {
        "id": "xquRIW-XwICS"
      },
      "source": [
        "### **Identifying similar items to a given item (nearest neighbors)**\n",
        "We can also find out the similar items to a given item or its nearest neighbors based on this KNNBasic algorithm. Below we are finding 5 most similar items to the `movieId=3` based on the `msd` distance metric"
      ]
    },
    {
      "cell_type": "code",
      "execution_count": 65,
      "metadata": {
        "id": "b4HbXJv-wICS"
      },
      "outputs": [
        {
          "data": {
            "text/plain": [
              "[31, 37, 42, 48, 73]"
            ]
          },
          "execution_count": 65,
          "metadata": {},
          "output_type": "execute_result"
        }
      ],
      "source": [
        "similarity_algo_optimized_item.get_neighbors(iid=3, k=5)"
      ]
    },
    {
      "cell_type": "markdown",
      "metadata": {
        "id": "PI69gPEdwICZ"
      },
      "source": [
        "#### **Predicted top 5 movies for userId=4 with similarity based recommendation system**"
      ]
    },
    {
      "cell_type": "code",
      "execution_count": 66,
      "metadata": {
        "id": "RAzdWtCSwICa"
      },
      "outputs": [],
      "source": [
        "recommendations = get_recommendations(rating, 4, 5, similarity_algo_optimized_item)"
      ]
    },
    {
      "attachments": {},
      "cell_type": "markdown",
      "metadata": {
        "id": "_cDPuGWcwICb"
      },
      "source": [
        "### **Predict the top 5 movies for userId=4 with similarity based recommendation system**"
      ]
    },
    {
      "cell_type": "code",
      "execution_count": 67,
      "metadata": {
        "id": "kJICKPecwICb"
      },
      "outputs": [
        {
          "data": {
            "text/plain": [
              "[(84, 5), (1040, 5), (2481, 5), (3515, 5), (4521, 5)]"
            ]
          },
          "execution_count": 67,
          "metadata": {},
          "output_type": "execute_result"
        }
      ],
      "source": [
        "recommendations"
      ]
    },
    {
      "attachments": {},
      "cell_type": "markdown",
      "metadata": {
        "id": "rKgJpSA9vOOL"
      },
      "source": [
        "## **Model 4: Based Collaborative Filtering - Matrix Factorization using SVD**"
      ]
    },
    {
      "cell_type": "markdown",
      "metadata": {
        "id": "YF6ZGyqhCAob"
      },
      "source": [
        "Model-based Collaborative Filtering is a **personalized recommendation system**, the recommendations are based on the past behavior of the user and it is not dependent on any additional information. We use **latent features** to find recommendations for each user."
      ]
    },
    {
      "cell_type": "markdown",
      "metadata": {
        "id": "uxGWVpOMvOOL"
      },
      "source": [
        "**Latent Features:** The features that are not present in the empirical data but can be inferred from the data. For example:"
      ]
    },
    {
      "cell_type": "markdown",
      "metadata": {
        "id": "ZfVDC0IuvOOL"
      },
      "source": [
        "![test_image](https://raw.githubusercontent.com/GL-ACADOPS/RS-IMAGES/main/CF3.PNG)"
      ]
    },
    {
      "cell_type": "markdown",
      "metadata": {
        "id": "W2TTW8YfvOOL"
      },
      "source": [
        "Now if we notice the above movies closely:"
      ]
    },
    {
      "cell_type": "markdown",
      "metadata": {
        "id": "RDcl6w2WvOOL"
      },
      "source": [
        "![test_image](https://raw.githubusercontent.com/GL-ACADOPS/RS-IMAGES/main/CF4.PNG)"
      ]
    },
    {
      "cell_type": "markdown",
      "metadata": {
        "id": "3l7fsZWNvOOL"
      },
      "source": [
        "Here **Action**, **Romance**, **Suspense** and **Comedy** are latent features of the corresponding movies. Similarly, we can compute the latent features for users as shown below:"
      ]
    },
    {
      "cell_type": "markdown",
      "metadata": {
        "id": "0Ad4w7bvvOOL"
      },
      "source": [
        "![test_image](https://raw.githubusercontent.com/GL-ACADOPS/RS-IMAGES/main/CF5.PNG)\n",
        "\n"
      ]
    },
    {
      "cell_type": "markdown",
      "metadata": {
        "id": "n4Otha8ovOOL"
      },
      "source": [
        "### **Singular Value Decomposition (SVD)**"
      ]
    },
    {
      "cell_type": "markdown",
      "metadata": {
        "id": "3sGl3QkLvOOL"
      },
      "source": [
        "SVD is used to **compute the latent features** from the **user-item matrix**. But SVD does not work when we **miss values** in the **user-item matrix**."
      ]
    },
    {
      "cell_type": "markdown",
      "metadata": {
        "id": "C80zDC6xvOOL"
      },
      "source": [
        "First we need to convert the below movie-rating dataset:"
      ]
    },
    {
      "cell_type": "markdown",
      "metadata": {
        "id": "xA_MGBrwvOOL"
      },
      "source": [
        "![test_image](https://raw.githubusercontent.com/GL-ACADOPS/RS-IMAGES/main/CF3.PNG)"
      ]
    },
    {
      "cell_type": "markdown",
      "metadata": {
        "id": "3q39l4__vOOL"
      },
      "source": [
        "into an user-item matrix as shown below:"
      ]
    },
    {
      "cell_type": "markdown",
      "metadata": {
        "id": "kAz3MNfEvOOL"
      },
      "source": [
        "![test_image](https://raw.githubusercontent.com/GL-ACADOPS/RS-IMAGES/main/CF6.PNG)"
      ]
    },
    {
      "cell_type": "markdown",
      "metadata": {
        "id": "6piwQzq3vOOL"
      },
      "source": [
        "We have already done this above while computing cosine similarities."
      ]
    },
    {
      "cell_type": "markdown",
      "metadata": {
        "id": "gOzTLIfIvOOL"
      },
      "source": [
        "**SVD decomposes this above matrix into three separate matrices:**\n",
        "- U matrix\n",
        "- Sigma matrix\n",
        "- V transpose matrix"
      ]
    },
    {
      "cell_type": "markdown",
      "metadata": {
        "id": "IVq1fCrBvOOL"
      },
      "source": [
        "#### **U-matrix**"
      ]
    },
    {
      "cell_type": "markdown",
      "metadata": {
        "id": "Y9wsChCmvOOL"
      },
      "source": [
        "![test_image](https://raw.githubusercontent.com/GL-ACADOPS/RS-IMAGES/main/CF7.PNG)"
      ]
    },
    {
      "cell_type": "markdown",
      "metadata": {
        "id": "hA1dXvYXvOOL"
      },
      "source": [
        "the above matrix is a n x k matrix, where:\n",
        "- n is number of users\n",
        "- k is number of latent features"
      ]
    },
    {
      "cell_type": "markdown",
      "metadata": {
        "id": "dplq-n9dvOOL"
      },
      "source": [
        "#### **Sigma-matrix**"
      ]
    },
    {
      "cell_type": "markdown",
      "metadata": {
        "id": "kB6jCN5svOOL"
      },
      "source": [
        "![test_image](https://raw.githubusercontent.com/GL-ACADOPS/RS-IMAGES/main/CF8.PNG)"
      ]
    },
    {
      "cell_type": "markdown",
      "metadata": {
        "id": "-twhbZ3wvOOL"
      },
      "source": [
        "the above matrix is a k x k matrix, where:\n",
        "- k is number of latent features\n",
        "- Each diagonal entry is the singular value of the original interaction matrix"
      ]
    },
    {
      "cell_type": "markdown",
      "metadata": {
        "id": "nr0dF0XcvOOL"
      },
      "source": [
        "#### **V-transpose matrix**"
      ]
    },
    {
      "cell_type": "markdown",
      "metadata": {
        "id": "hz82XFEgvOOL"
      },
      "source": [
        "![test_image](https://raw.githubusercontent.com/GL-ACADOPS/RS-IMAGES/main/CF9.PNG)"
      ]
    },
    {
      "cell_type": "markdown",
      "metadata": {
        "id": "o9B1119q2N-M"
      },
      "source": [
        "the above matrix is a kxn matrix, where:\n",
        "- k is the number of latent features\n",
        "- n is the number of items"
      ]
    },
    {
      "cell_type": "markdown",
      "metadata": {
        "id": "uOtkUXmAnVNL"
      },
      "source": [
        "### **Build a baseline matrix factorization recommendation system**"
      ]
    },
    {
      "cell_type": "code",
      "execution_count": 68,
      "metadata": {
        "id": "07-2PT5Ssjqm"
      },
      "outputs": [
        {
          "name": "stdout",
          "output_type": "stream",
          "text": [
            "RMSE: 0.9026\n"
          ]
        },
        {
          "data": {
            "text/plain": [
              "0.9026416284838032"
            ]
          },
          "execution_count": 68,
          "metadata": {},
          "output_type": "execute_result"
        }
      ],
      "source": [
        "# Using SVD matrix factorization\n",
        "algo_svd = SVD()\n",
        "\n",
        "# Training the algorithm on the trainset\n",
        "algo_svd.fit(trainset)\n",
        "\n",
        "# Predicting ratings for the testset\n",
        "predictions = algo_svd.test(testset)\n",
        "\n",
        "# Computing RMSE on the testset\n",
        "accuracy.rmse(predictions)"
      ]
    },
    {
      "attachments": {},
      "cell_type": "markdown",
      "metadata": {
        "id": "2271PkTuwICu"
      },
      "source": [
        "### **What is the RMSE for baseline SVD based collaborative filtering recommendation system?**"
      ]
    },
    {
      "attachments": {},
      "cell_type": "markdown",
      "metadata": {
        "id": "BQ6fTuCDnVNL"
      },
      "source": [
        "- The baseline RMSE for matrix factorization model on testset (which is `0.90`) is lower as compared to the RMSE for baseline similarity based recommendation system (which is `1.003`) and it is even lesser than the RMSE for optimized similarity based recommendation system (which is `0.94`)"
      ]
    },
    {
      "attachments": {},
      "cell_type": "markdown",
      "metadata": {
        "id": "fsBGQrwCwICv"
      },
      "source": [
        "### **What is the Predicted  rating for an user with userId =4 and for movieId= 10 and movieId=3?**"
      ]
    },
    {
      "cell_type": "markdown",
      "metadata": {
        "id": "HD2AU1DnnVNM"
      },
      "source": [
        "Let's us now predict rating for an user with `userId=4` and for `movieId=10`"
      ]
    },
    {
      "cell_type": "code",
      "execution_count": 69,
      "metadata": {
        "id": "yWIhfdxXsjqm"
      },
      "outputs": [
        {
          "name": "stdout",
          "output_type": "stream",
          "text": [
            "user: 4          item: 10         r_ui = 4.00   est = 3.98   {'was_impossible': False}\n"
          ]
        },
        {
          "data": {
            "text/plain": [
              "Prediction(uid=4, iid=10, r_ui=4, est=3.9815405981881873, details={'was_impossible': False})"
            ]
          },
          "execution_count": 69,
          "metadata": {},
          "output_type": "execute_result"
        }
      ],
      "source": [
        "algo_svd.predict(uid=4, iid=10, r_ui=4, verbose=True)"
      ]
    },
    {
      "attachments": {},
      "cell_type": "markdown",
      "metadata": {
        "id": "oIjzqDY5nVNM"
      },
      "source": [
        "- As we can see - the actual rating for this user-item pair is `4` and predicted rating is `3.98` by this matrix factorization based baseline model. The predicted rating is very close to the actual rating."
      ]
    },
    {
      "cell_type": "markdown",
      "metadata": {
        "id": "I1aYxVeMnVNM"
      },
      "source": [
        "Let's predict the rating for the same `userId=4` but for a movie which this user has not interacted before i.e. `movieId=3`:"
      ]
    },
    {
      "cell_type": "code",
      "execution_count": 77,
      "metadata": {
        "id": "APm-uMSvcAMf"
      },
      "outputs": [
        {
          "name": "stdout",
          "output_type": "stream",
          "text": [
            "user: 4          item: 3          r_ui = None   est = 4.14   {'was_impossible': False}\n"
          ]
        },
        {
          "data": {
            "text/plain": [
              "Prediction(uid=4, iid=3, r_ui=None, est=4.138042490168894, details={'was_impossible': False})"
            ]
          },
          "execution_count": 77,
          "metadata": {},
          "output_type": "execute_result"
        }
      ],
      "source": [
        "algo_svd.predict(uid=4,iid= 3, verbose=True)"
      ]
    },
    {
      "attachments": {},
      "cell_type": "markdown",
      "metadata": {
        "id": "NEL6dy3wnVNM"
      },
      "source": [
        "- We can see that estimated rating for this user-item pair is `4.14` based on this matrix factorization based baseline model."
      ]
    },
    {
      "cell_type": "markdown",
      "metadata": {
        "id": "x13Eb9Owvpcw"
      },
      "source": [
        "### **Improving matrix factorization based recommendation system by tuning its hyper-parameters**"
      ]
    },
    {
      "cell_type": "markdown",
      "metadata": {
        "id": "qbd3L1d2nVNM"
      },
      "source": [
        "In SVD, rating is predicted as - "
      ]
    },
    {
      "cell_type": "markdown",
      "metadata": {
        "id": "Wp38lmEqnVNM"
      },
      "source": [
        "$$\\hat{r}_{u i}=\\mu+b_{u}+b_{i}+q_{i}^{T} p_{u}$$"
      ]
    },
    {
      "cell_type": "markdown",
      "metadata": {
        "id": "bHVAYuFznVNN"
      },
      "source": [
        "If user $u$ is unknown, then the bias $b_{u}$ and the factors $p_{u}$ are assumed to be zero. The same applies for item $i$ with $b_{i}$ and $q_{i}$."
      ]
    },
    {
      "cell_type": "markdown",
      "metadata": {
        "id": "jCfY5mr7nVNN"
      },
      "source": [
        "To estimate all the unknown, we minimize the following regularized squared error:"
      ]
    },
    {
      "cell_type": "markdown",
      "metadata": {
        "id": "1WyyjmK7nVNN"
      },
      "source": [
        "$$\\sum_{r_{u i} \\in R_{\\text {train }}}\\left(r_{u i}-\\hat{r}_{u i}\\right)^{2}+\\lambda\\left(b_{i}^{2}+b_{u}^{2}+\\left\\|q_{i}\\right\\|^{2}+\\left\\|p_{u}\\right\\|^{2}\\right)$$"
      ]
    },
    {
      "cell_type": "markdown",
      "metadata": {
        "id": "-GBMNL9qnVNN"
      },
      "source": [
        "The minimization is performed by a very straightforward **stochastic gradient descent**:"
      ]
    },
    {
      "cell_type": "markdown",
      "metadata": {
        "id": "CwJJRsJGnVNN"
      },
      "source": [
        "$$\\begin{aligned} b_{u} & \\leftarrow b_{u}+\\gamma\\left(e_{u i}-\\lambda b_{u}\\right) \\\\ b_{i} & \\leftarrow b_{i}+\\gamma\\left(e_{u i}-\\lambda b_{i}\\right) \\\\ p_{u} & \\leftarrow p_{u}+\\gamma\\left(e_{u i} \\cdot q_{i}-\\lambda p_{u}\\right) \\\\ q_{i} & \\leftarrow q_{i}+\\gamma\\left(e_{u i} \\cdot p_{u}-\\lambda q_{i}\\right) \\end{aligned}$$"
      ]
    },
    {
      "cell_type": "markdown",
      "metadata": {
        "id": "nuRjcsUknVNN"
      },
      "source": [
        "There are many hyperparameters to tune in this algorithm, you can find a full list of hyperparameters [here](https://surprise.readthedocs.io/en/stable/matrix_factorization.html#surprise.prediction_algorithms.matrix_factorization.SVD)"
      ]
    },
    {
      "cell_type": "markdown",
      "metadata": {
        "id": "iQcDPhhcnVNN"
      },
      "source": [
        "Below we will be tuning only three hyperparameters -\n",
        "- **n_epochs**: The number of iteration of the SGD algorithm\n",
        "- **lr_all**: The learning rate for all parameters\n",
        "- **reg_all**: The regularization term for all parameters"
      ]
    },
    {
      "attachments": {},
      "cell_type": "markdown",
      "metadata": {
        "id": "ksN4zUnUwIC_"
      },
      "source": [
        "### **Perform hyperparameter tuning for the baseline SVD based collaborative filtering recommendation system and find the RMSE for tuned SVD based collaborative filtering recommendation system?**"
      ]
    },
    {
      "cell_type": "code",
      "execution_count": 71,
      "metadata": {
        "id": "4bM81V_hvtwv"
      },
      "outputs": [
        {
          "name": "stdout",
          "output_type": "stream",
          "text": [
            "0.8932897100474136\n",
            "{'n_epochs': 30, 'lr_all': 0.01, 'reg_all': 0.2}\n"
          ]
        }
      ],
      "source": [
        "# Set the parameter space to tune\n",
        "param_grid = {'n_epochs': [10, 20, 30], 'lr_all': [0.001, 0.005, 0.01],\n",
        "              'reg_all': [0.2, 0.4, 0.6]}\n",
        "\n",
        "# Performing 3-fold gridsearch cross validation\n",
        "gs = GridSearchCV(SVD, param_grid, measures=['rmse', 'mae'], cv=3, n_jobs=-1)\n",
        "\n",
        "# Fitting data\n",
        "gs.fit(data)\n",
        "\n",
        "# Best RMSE score\n",
        "print(gs.best_score['rmse'])\n",
        "\n",
        "# Combination of parameters that gave the best RMSE score\n",
        "print(gs.best_params['rmse'])"
      ]
    },
    {
      "cell_type": "markdown",
      "metadata": {
        "id": "cjIaWSIAnVNN"
      },
      "source": [
        "Once the **grid search** is complete, we can get the **optimal values** for each of those hyperparameters, as shown above."
      ]
    },
    {
      "cell_type": "markdown",
      "metadata": {
        "id": "2CfLdGf0nVNN"
      },
      "source": [
        "Below we are analysing evaluation metrics - RMSE and MAE at each and every split to analyze the impact of each value of hyperparameters"
      ]
    },
    {
      "cell_type": "code",
      "execution_count": 72,
      "metadata": {
        "id": "RMb3t3z_vt8W"
      },
      "outputs": [
        {
          "data": {
            "text/html": [
              "<div>\n",
              "<style scoped>\n",
              "    .dataframe tbody tr th:only-of-type {\n",
              "        vertical-align: middle;\n",
              "    }\n",
              "\n",
              "    .dataframe tbody tr th {\n",
              "        vertical-align: top;\n",
              "    }\n",
              "\n",
              "    .dataframe thead th {\n",
              "        text-align: right;\n",
              "    }\n",
              "</style>\n",
              "<table border=\"1\" class=\"dataframe\">\n",
              "  <thead>\n",
              "    <tr style=\"text-align: right;\">\n",
              "      <th></th>\n",
              "      <th>split0_test_rmse</th>\n",
              "      <th>split1_test_rmse</th>\n",
              "      <th>split2_test_rmse</th>\n",
              "      <th>mean_test_rmse</th>\n",
              "      <th>std_test_rmse</th>\n",
              "      <th>rank_test_rmse</th>\n",
              "      <th>split0_test_mae</th>\n",
              "      <th>split1_test_mae</th>\n",
              "      <th>split2_test_mae</th>\n",
              "      <th>mean_test_mae</th>\n",
              "      <th>std_test_mae</th>\n",
              "      <th>rank_test_mae</th>\n",
              "      <th>mean_fit_time</th>\n",
              "      <th>std_fit_time</th>\n",
              "      <th>mean_test_time</th>\n",
              "      <th>std_test_time</th>\n",
              "      <th>params</th>\n",
              "      <th>param_n_epochs</th>\n",
              "      <th>param_lr_all</th>\n",
              "      <th>param_reg_all</th>\n",
              "    </tr>\n",
              "  </thead>\n",
              "  <tbody>\n",
              "    <tr>\n",
              "      <th>0</th>\n",
              "      <td>0.940394</td>\n",
              "      <td>0.948196</td>\n",
              "      <td>0.941150</td>\n",
              "      <td>0.943247</td>\n",
              "      <td>0.003513</td>\n",
              "      <td>25</td>\n",
              "      <td>0.736744</td>\n",
              "      <td>0.742388</td>\n",
              "      <td>0.735965</td>\n",
              "      <td>0.738366</td>\n",
              "      <td>0.002862</td>\n",
              "      <td>25</td>\n",
              "      <td>0.394999</td>\n",
              "      <td>0.057696</td>\n",
              "      <td>0.243998</td>\n",
              "      <td>0.042737</td>\n",
              "      <td>{'n_epochs': 10, 'lr_all': 0.001, 'reg_all': 0.2}</td>\n",
              "      <td>10</td>\n",
              "      <td>0.001</td>\n",
              "      <td>0.2</td>\n",
              "    </tr>\n",
              "    <tr>\n",
              "      <th>1</th>\n",
              "      <td>0.945903</td>\n",
              "      <td>0.952250</td>\n",
              "      <td>0.944839</td>\n",
              "      <td>0.947664</td>\n",
              "      <td>0.003272</td>\n",
              "      <td>26</td>\n",
              "      <td>0.742473</td>\n",
              "      <td>0.747312</td>\n",
              "      <td>0.740179</td>\n",
              "      <td>0.743321</td>\n",
              "      <td>0.002973</td>\n",
              "      <td>26</td>\n",
              "      <td>0.378247</td>\n",
              "      <td>0.015214</td>\n",
              "      <td>0.252265</td>\n",
              "      <td>0.015317</td>\n",
              "      <td>{'n_epochs': 10, 'lr_all': 0.001, 'reg_all': 0.4}</td>\n",
              "      <td>10</td>\n",
              "      <td>0.001</td>\n",
              "      <td>0.4</td>\n",
              "    </tr>\n",
              "    <tr>\n",
              "      <th>2</th>\n",
              "      <td>0.950749</td>\n",
              "      <td>0.957500</td>\n",
              "      <td>0.949594</td>\n",
              "      <td>0.952614</td>\n",
              "      <td>0.003487</td>\n",
              "      <td>27</td>\n",
              "      <td>0.747897</td>\n",
              "      <td>0.753228</td>\n",
              "      <td>0.745873</td>\n",
              "      <td>0.748999</td>\n",
              "      <td>0.003102</td>\n",
              "      <td>27</td>\n",
              "      <td>0.344128</td>\n",
              "      <td>0.017240</td>\n",
              "      <td>0.250240</td>\n",
              "      <td>0.016822</td>\n",
              "      <td>{'n_epochs': 10, 'lr_all': 0.001, 'reg_all': 0.6}</td>\n",
              "      <td>10</td>\n",
              "      <td>0.001</td>\n",
              "      <td>0.6</td>\n",
              "    </tr>\n",
              "    <tr>\n",
              "      <th>3</th>\n",
              "      <td>0.903569</td>\n",
              "      <td>0.912384</td>\n",
              "      <td>0.904513</td>\n",
              "      <td>0.906822</td>\n",
              "      <td>0.003952</td>\n",
              "      <td>11</td>\n",
              "      <td>0.701052</td>\n",
              "      <td>0.706933</td>\n",
              "      <td>0.700311</td>\n",
              "      <td>0.702765</td>\n",
              "      <td>0.002962</td>\n",
              "      <td>9</td>\n",
              "      <td>0.358785</td>\n",
              "      <td>0.014699</td>\n",
              "      <td>0.231549</td>\n",
              "      <td>0.020965</td>\n",
              "      <td>{'n_epochs': 10, 'lr_all': 0.005, 'reg_all': 0.2}</td>\n",
              "      <td>10</td>\n",
              "      <td>0.005</td>\n",
              "      <td>0.2</td>\n",
              "    </tr>\n",
              "    <tr>\n",
              "      <th>4</th>\n",
              "      <td>0.910904</td>\n",
              "      <td>0.919079</td>\n",
              "      <td>0.911410</td>\n",
              "      <td>0.913797</td>\n",
              "      <td>0.003740</td>\n",
              "      <td>15</td>\n",
              "      <td>0.708829</td>\n",
              "      <td>0.714632</td>\n",
              "      <td>0.707784</td>\n",
              "      <td>0.710415</td>\n",
              "      <td>0.003012</td>\n",
              "      <td>15</td>\n",
              "      <td>0.311521</td>\n",
              "      <td>0.018364</td>\n",
              "      <td>0.237702</td>\n",
              "      <td>0.023165</td>\n",
              "      <td>{'n_epochs': 10, 'lr_all': 0.005, 'reg_all': 0.4}</td>\n",
              "      <td>10</td>\n",
              "      <td>0.005</td>\n",
              "      <td>0.4</td>\n",
              "    </tr>\n",
              "  </tbody>\n",
              "</table>\n",
              "</div>"
            ],
            "text/plain": [
              "   split0_test_rmse  split1_test_rmse  split2_test_rmse  mean_test_rmse   \n",
              "0          0.940394          0.948196          0.941150        0.943247  \\\n",
              "1          0.945903          0.952250          0.944839        0.947664   \n",
              "2          0.950749          0.957500          0.949594        0.952614   \n",
              "3          0.903569          0.912384          0.904513        0.906822   \n",
              "4          0.910904          0.919079          0.911410        0.913797   \n",
              "\n",
              "   std_test_rmse  rank_test_rmse  split0_test_mae  split1_test_mae   \n",
              "0       0.003513              25         0.736744         0.742388  \\\n",
              "1       0.003272              26         0.742473         0.747312   \n",
              "2       0.003487              27         0.747897         0.753228   \n",
              "3       0.003952              11         0.701052         0.706933   \n",
              "4       0.003740              15         0.708829         0.714632   \n",
              "\n",
              "   split2_test_mae  mean_test_mae  std_test_mae  rank_test_mae  mean_fit_time   \n",
              "0         0.735965       0.738366      0.002862             25       0.394999  \\\n",
              "1         0.740179       0.743321      0.002973             26       0.378247   \n",
              "2         0.745873       0.748999      0.003102             27       0.344128   \n",
              "3         0.700311       0.702765      0.002962              9       0.358785   \n",
              "4         0.707784       0.710415      0.003012             15       0.311521   \n",
              "\n",
              "   std_fit_time  mean_test_time  std_test_time   \n",
              "0      0.057696        0.243998       0.042737  \\\n",
              "1      0.015214        0.252265       0.015317   \n",
              "2      0.017240        0.250240       0.016822   \n",
              "3      0.014699        0.231549       0.020965   \n",
              "4      0.018364        0.237702       0.023165   \n",
              "\n",
              "                                              params  param_n_epochs   \n",
              "0  {'n_epochs': 10, 'lr_all': 0.001, 'reg_all': 0.2}              10  \\\n",
              "1  {'n_epochs': 10, 'lr_all': 0.001, 'reg_all': 0.4}              10   \n",
              "2  {'n_epochs': 10, 'lr_all': 0.001, 'reg_all': 0.6}              10   \n",
              "3  {'n_epochs': 10, 'lr_all': 0.005, 'reg_all': 0.2}              10   \n",
              "4  {'n_epochs': 10, 'lr_all': 0.005, 'reg_all': 0.4}              10   \n",
              "\n",
              "   param_lr_all  param_reg_all  \n",
              "0         0.001            0.2  \n",
              "1         0.001            0.4  \n",
              "2         0.001            0.6  \n",
              "3         0.005            0.2  \n",
              "4         0.005            0.4  "
            ]
          },
          "execution_count": 72,
          "metadata": {},
          "output_type": "execute_result"
        }
      ],
      "source": [
        "results_df = pd.DataFrame.from_dict(gs.cv_results)\n",
        "results_df.head()"
      ]
    },
    {
      "cell_type": "markdown",
      "metadata": {
        "id": "KzY78HsrnVNO"
      },
      "source": [
        "Now, we will **the build final model** by using **tuned values** of the hyperparameters, which we received using grid search cross-validation above."
      ]
    },
    {
      "cell_type": "code",
      "execution_count": 74,
      "metadata": {
        "id": "TA_7xe-nnhuu"
      },
      "outputs": [
        {
          "name": "stdout",
          "output_type": "stream",
          "text": [
            "RMSE: 0.8957\n"
          ]
        },
        {
          "data": {
            "text/plain": [
              "0.8956571578000979"
            ]
          },
          "execution_count": 74,
          "metadata": {},
          "output_type": "execute_result"
        }
      ],
      "source": [
        "# {'n_epochs': 30, 'lr_all': 0.01, 'reg_all': 0.2}\n",
        "\n",
        "# Building the optimized SVD model using optimal hyperparameter search\n",
        "svd_algo_optimized = SVD(n_epochs=30, lr_all=0.01, reg_all=0.2)\n",
        "\n",
        "# Training the algorithm on the trainset\n",
        "svd_algo_optimized.fit(trainset)\n",
        "\n",
        "# Predicting ratings for the testset\n",
        "predictions = svd_algo_optimized.test(testset)\n",
        "\n",
        "# Computing RMSE\n",
        "accuracy.rmse(predictions)"
      ]
    },
    {
      "attachments": {},
      "cell_type": "markdown",
      "metadata": {
        "id": "UruWuDiCwIDE"
      },
      "source": [
        "### **What is the Predicted rating for an user with userId =4 and for movieId= 10 and movieId=3 using SVD based collaborative filtering**"
      ]
    },
    {
      "cell_type": "markdown",
      "metadata": {
        "id": "md0-dL56nVNO"
      },
      "source": [
        "Let's us now predict rating for an user with `userId=4` and for `movieId=10` with the optimized model"
      ]
    },
    {
      "cell_type": "code",
      "execution_count": 75,
      "metadata": {
        "id": "s6C1PAfboM8_"
      },
      "outputs": [
        {
          "name": "stdout",
          "output_type": "stream",
          "text": [
            "user: 4          item: 10         r_ui = 4.00   est = 3.98   {'was_impossible': False}\n"
          ]
        },
        {
          "data": {
            "text/plain": [
              "Prediction(uid=4, iid=10, r_ui=4, est=3.9797118982384627, details={'was_impossible': False})"
            ]
          },
          "execution_count": 75,
          "metadata": {},
          "output_type": "execute_result"
        }
      ],
      "source": [
        "svd_algo_optimized.predict(uid=4, iid=10, r_ui=4, verbose=True)"
      ]
    },
    {
      "attachments": {},
      "cell_type": "markdown",
      "metadata": {
        "id": "VdiEtzEznVNO"
      },
      "source": [
        "- If we compare the above predicted rating, we can see the baseline model predicted rating and the optimized model predicted the rating is the same `3.98`. whereas the actual rating is `4`."
      ]
    },
    {
      "cell_type": "markdown",
      "metadata": {
        "id": "Qd2bRtIQ4ze5"
      },
      "source": [
        "Let's predict the rating for the same `userId=4` but for a movie which this user has not interacted before i.e. `movieId=3`:"
      ]
    },
    {
      "cell_type": "code",
      "execution_count": 76,
      "metadata": {
        "id": "k1xjn3kOoQyg"
      },
      "outputs": [
        {
          "name": "stdout",
          "output_type": "stream",
          "text": [
            "user: 4          item: 3          r_ui = None   est = 3.64   {'was_impossible': False}\n"
          ]
        },
        {
          "data": {
            "text/plain": [
              "Prediction(uid=4, iid=3, r_ui=None, est=3.643181414553425, details={'was_impossible': False})"
            ]
          },
          "execution_count": 76,
          "metadata": {},
          "output_type": "execute_result"
        }
      ],
      "source": [
        "svd_algo_optimized.predict(uid=4,iid =3 , verbose=True)"
      ]
    },
    {
      "attachments": {},
      "cell_type": "markdown",
      "metadata": {
        "id": "5jlUBrbFwIDH"
      },
      "source": [
        "### **Predict the top 5 movies for userId=4 with SVD based recommendation system?**"
      ]
    },
    {
      "cell_type": "code",
      "execution_count": 80,
      "metadata": {
        "id": "1LGeE2EB_n90"
      },
      "outputs": [
        {
          "data": {
            "text/plain": [
              "[(3310, 4.995537035971832),\n",
              " (116, 4.985377413568438),\n",
              " (1192, 4.972590166536551),\n",
              " (926, 4.946795620985655),\n",
              " (1948, 4.931722337863347)]"
            ]
          },
          "execution_count": 80,
          "metadata": {},
          "output_type": "execute_result"
        }
      ],
      "source": [
        "get_recommendations(data=rating,user_id=4, top_n=5, algo=svd_algo_optimized)"
      ]
    },
    {
      "cell_type": "markdown",
      "metadata": {
        "id": "xgKmqss1vqGz"
      },
      "source": [
        "### **Predicting ratings for already interacted movies** "
      ]
    },
    {
      "cell_type": "markdown",
      "metadata": {
        "id": "nNlUEB13wIDJ"
      },
      "source": [
        "Below we are comparing the rating predictions of users for those movies which has been already watched by an user. This will help us to understand how well are predictions are as compared to the actual ratings provided by users"
      ]
    },
    {
      "cell_type": "code",
      "execution_count": 81,
      "metadata": {
        "id": "hQIPHA7-vg7W"
      },
      "outputs": [],
      "source": [
        "def predict_already_interacted_ratings(data, user_id, algo):\n",
        "    \n",
        "    # Creating an empty list to store the recommended movie ids\n",
        "    recommendations = []\n",
        "    \n",
        "    # Creating an user item interactions matrix \n",
        "    user_item_interactions_matrix = data.pivot(index='userId', columns='movieId', values='rating')\n",
        "    \n",
        "    # Extracting those movie ids which the user_id has interacted already\n",
        "    interacted_movies = user_item_interactions_matrix.loc[user_id][user_item_interactions_matrix.loc[user_id].notnull()].index.tolist()\n",
        "    \n",
        "    # Looping through each of the movie id which user_id has interacted already\n",
        "    for item_id in interacted_movies:\n",
        "        \n",
        "        # Extracting actual ratings\n",
        "        actual_rating = user_item_interactions_matrix.loc[user_id, item_id]\n",
        "        \n",
        "        # Predicting the ratings for those non interacted movie ids by this user\n",
        "        predicted_rating = algo.predict(user_id, item_id).est\n",
        "        \n",
        "        # Appending the predicted ratings\n",
        "        recommendations.append((item_id, actual_rating, predicted_rating))\n",
        "\n",
        "    # Sorting the predicted ratings in descending order\n",
        "    recommendations.sort(key=lambda x: x[1], reverse=True)\n",
        "\n",
        "    return pd.DataFrame(recommendations, columns=['movieId', 'actual_rating', 'predicted_rating']) # returing top n highest predicted rating movies for this user"
      ]
    },
    {
      "cell_type": "markdown",
      "metadata": {
        "id": "5T0q833lwIDK"
      },
      "source": [
        "Here we are comparing the predicted ratings by `similarity based recommendation` system against actual ratings for `userId=7`"
      ]
    },
    {
      "cell_type": "code",
      "execution_count": 82,
      "metadata": {
        "id": "IWQvGj-vyWj3"
      },
      "outputs": [
        {
          "data": {
            "image/png": "[encoded data removed]",
            "text/plain": [
              "<Figure size 664.5x500 with 1 Axes>"
            ]
          },
          "metadata": {},
          "output_type": "display_data"
        }
      ],
      "source": [
        "predicted_ratings_for_interacted_movies = predict_already_interacted_ratings(rating, 7, similarity_algo_optimized_item)\n",
        "df = predicted_ratings_for_interacted_movies.melt(id_vars='movieId', value_vars=['actual_rating', 'predicted_rating'])\n",
        "sns.displot(data=df, x='value', hue='variable', kde=True);"
      ]
    },
    {
      "attachments": {},
      "cell_type": "markdown",
      "metadata": {
        "id": "Yt9XGhb4wIDM"
      },
      "source": [
        "- We can see that distribution of predicted ratings is closely following the distribution of actual ratings. The total bins for predicted ratings are nearly same as to the total bins for actual ratings.\n",
        "- We are getting more predicted values in between `3` and `4`,this is expected, as actual ratings always have discreet values like 1, 2, 3, 4, 5, but predicted ratings lean toward `3.5` rating while the actual rating is more on `3` rating. But overall the predictions looks good as compared to the distribution of actual ratings."
      ]
    },
    {
      "cell_type": "markdown",
      "metadata": {
        "id": "jfNXSEw9wIDM"
      },
      "source": [
        "Below we are comparing the predicted ratings by `matrix factorization based recommendation` system against actual ratings for `userId=7`"
      ]
    },
    {
      "cell_type": "code",
      "execution_count": 83,
      "metadata": {
        "id": "6lYjMDhU0xuQ"
      },
      "outputs": [
        {
          "data": {
            "image/png": "[encoded data removed]",
            "text/plain": [
              "<Figure size 664.5x500 with 1 Axes>"
            ]
          },
          "metadata": {},
          "output_type": "display_data"
        }
      ],
      "source": [
        "predicted_ratings_for_interacted_movies = predict_already_interacted_ratings(rating, 7, svd_algo_optimized)\n",
        "df = predicted_ratings_for_interacted_movies.melt(id_vars='movieId', value_vars=['actual_rating', 'predicted_rating'])\n",
        "sns.displot(data=df, x='value', hue='variable', kde=True);"
      ]
    },
    {
      "cell_type": "code",
      "execution_count": 84,
      "metadata": {
        "id": "aT0zASb-wIDO"
      },
      "outputs": [],
      "source": [
        "# Instantiating Reader scale with expected rating scale\n",
        "reader = Reader(rating_scale=(0, 5))\n",
        "\n",
        "# Loading the rating dataset\n",
        "data = Dataset.load_from_df(rating[['userId', 'movieId', 'rating']], reader)\n",
        "\n",
        "# Splitting the data into train and test dataset\n",
        "trainset, testset = train_test_split(data, test_size=0.2, random_state=42)"
      ]
    },
    {
      "cell_type": "markdown",
      "metadata": {
        "id": "kGbfBUnawIDO"
      },
      "source": [
        "## **Precision and Recall @ k**\n",
        "\n",
        "RMSE is not the only metric we can use here. We can also examine two fundamental measures, precision and recall. We also add a parameter k which is helpful in understanding problems with multiple rating outputs.\n",
        "\n",
        "**Precision@k** - It is the **fraction of recommended items that are relevant in `top k` predictions**. Value of k is the number of recommendations to be provided to the user. One can choose a variable number of recommendations to be given to a unique user.  \n",
        "\n",
        "**Recall@k** - It is the **fraction of relevant items that are recommended to the user in `top k` predictions**.\n",
        "\n",
        "**Recall** - It is the **fraction of actually relevant items that are recommended to the user** i.e. if out of 10 relevant movies, 6 are recommended to the user then recall is 0.60. Higher the value of recall better is the model. It is one of the metrics to do the performance assessment of classification models.\n",
        "\n",
        "**Precision** - It is the **fraction of recommended items that are relevant actually** i.e. if out of 10 recommended items, 6 are found relevant by the user then precision is 0.60. The higher the value of precision better is the model. It is one of the metrics to do the performance assessment of classification models.\n",
        "\n",
        "See the Precision and Recall @ k section of your notebook and follow the instructions to compute various precision/recall values at various values of k.\n",
        "\n",
        "To know more about precision recall in Recommendation systems refer to these links : \n",
        "\n",
        "https://surprise.readthedocs.io/en/stable/FAQ.html\n",
        "\n",
        "https://medium.com/@m_n_malaeb/recall-and-precision-at-k-for-recommender-systems-618483226c54"
      ]
    },
    {
      "attachments": {},
      "cell_type": "markdown",
      "metadata": {
        "id": "b_norGWOwIDP"
      },
      "source": [
        "### **Compute the precision and recall, for each of the 6 models, at k = 5 and 10. This is 6 x 2 = 12 numerical values?**"
      ]
    },
    {
      "cell_type": "code",
      "execution_count": 85,
      "metadata": {
        "id": "gihoUY5uwIDQ",
        "scrolled": false
      },
      "outputs": [],
      "source": [
        "# Function can be found on surprise documentation FAQs\n",
        "def precision_recall_at_k(predictions, k=10, threshold=3.5):\n",
        "    \"\"\"Return precision and recall at k metrics for each user\"\"\"\n",
        "\n",
        "    # First map the predictions to each user.\n",
        "    user_est_true = defaultdict(list)\n",
        "    for uid, _, true_r, est, _ in predictions:\n",
        "        user_est_true[uid].append((est, true_r))\n",
        "\n",
        "    precisions = dict()\n",
        "    recalls = dict()\n",
        "    for uid, user_ratings in user_est_true.items():\n",
        "\n",
        "        # Sort user ratings by estimated value\n",
        "        user_ratings.sort(key=lambda x: x[0], reverse=True)\n",
        "\n",
        "        # Number of relevant items\n",
        "        n_rel = sum((true_r >= threshold) for (_, true_r) in user_ratings)\n",
        "\n",
        "        # Number of recommended items in top k\n",
        "        n_rec_k = sum((est >= threshold) for (est, _) in user_ratings[:k])\n",
        "\n",
        "        # Number of relevant and recommended items in top k\n",
        "        n_rel_and_rec_k = sum(((true_r >= threshold) and (est >= threshold))\n",
        "                              for (est, true_r) in user_ratings[:k])\n",
        "\n",
        "        # Precision@K: Proportion of recommended items that are relevant\n",
        "        # When n_rec_k is 0, Precision is undefined. We here set it to 0.\n",
        "\n",
        "        precisions[uid] = n_rel_and_rec_k / n_rec_k if n_rec_k != 0 else 0\n",
        "\n",
        "        # Recall@K: Proportion of relevant items that are recommended\n",
        "        # When n_rel is 0, Recall is undefined. We here set it to 0.\n",
        "\n",
        "        recalls[uid] = n_rel_and_rec_k / n_rel if n_rel != 0 else 0\n",
        "\n",
        "    return precisions, recalls\n",
        "\n"
      ]
    },
    {
      "cell_type": "code",
      "execution_count": 90,
      "metadata": {
        "id": "57qD5TFRnm1W"
      },
      "outputs": [
        {
          "name": "stdout",
          "output_type": "stream",
          "text": [
            "> k=5, model=KNNBasic\n",
            "Computing the cosine similarity matrix...\n",
            "Done computing similarity matrix.\n",
            "Computing the cosine similarity matrix...\n",
            "Done computing similarity matrix.\n",
            "Computing the cosine similarity matrix...\n",
            "Done computing similarity matrix.\n",
            "Computing the cosine similarity matrix...\n",
            "Done computing similarity matrix.\n",
            "Computing the cosine similarity matrix...\n",
            "Done computing similarity matrix.\n",
            "-----> Precision:  0.767\n",
            "-----> Recall:  0.411\n",
            "> k=5, model=KNNBasic\n",
            "-----> Precision:  0.773\n",
            "-----> Recall:  0.416\n",
            "> k=5, model=KNNBasic\n",
            "-----> Precision:  0.608\n",
            "-----> Recall:  0.329\n",
            "> k=5, model=KNNBasic\n",
            "-----> Precision:  0.675\n",
            "-----> Recall:  0.352\n",
            "> k=5, model=SVD\n",
            "-----> Precision:  0.752\n",
            "-----> Recall:  0.384\n",
            "> k=5, model=SVD\n",
            "-----> Precision:  0.752\n",
            "-----> Recall:  0.387\n",
            "> k=10, model=KNNBasic\n",
            "Computing the cosine similarity matrix...\n",
            "Done computing similarity matrix.\n",
            "Computing the cosine similarity matrix...\n",
            "Done computing similarity matrix.\n",
            "Computing the cosine similarity matrix...\n",
            "Done computing similarity matrix.\n",
            "Computing the cosine similarity matrix...\n",
            "Done computing similarity matrix.\n",
            "Computing the cosine similarity matrix...\n",
            "Done computing similarity matrix.\n",
            "-----> Precision:  0.749\n",
            "-----> Recall:  0.55\n",
            "> k=10, model=KNNBasic\n",
            "-----> Precision:  0.759\n",
            "-----> Recall:  0.564\n",
            "> k=10, model=KNNBasic\n",
            "-----> Precision:  0.599\n",
            "-----> Recall:  0.476\n",
            "> k=10, model=KNNBasic\n",
            "-----> Precision:  0.659\n",
            "-----> Recall:  0.503\n",
            "> k=10, model=SVD\n",
            "-----> Precision:  0.734\n",
            "-----> Recall:  0.519\n",
            "> k=10, model=SVD\n",
            "-----> Precision:  0.734\n",
            "-----> Recall:  0.525\n"
          ]
        }
      ],
      "source": [
        "# A basic cross-validation iterator.\n",
        "kf = KFold(n_splits=5)\n",
        "\n",
        "# Make list of k values\n",
        "K = [5, 10]\n",
        "\n",
        "# Make list of models\n",
        "models = [algo_knn_user, similarity_algo_optimized_user,algo_knn_item,similarity_algo_optimized_item, algo_svd, svd_algo_optimized]\n",
        "\n",
        "for k in K:\n",
        "    for model in models:\n",
        "        print('> k={}, model={}'.format(k,model.__class__.__name__))\n",
        "        p = []\n",
        "        r = []\n",
        "        for trainset, testset in kf.split(data):\n",
        "            model.fit(trainset)\n",
        "            predictions = model.test(testset, verbose=False)\n",
        "            precisions, recalls = precision_recall_at_k(predictions, k=k, threshold=3.5)\n",
        "\n",
        "            # Precision and recall can then be averaged over all users\n",
        "            p.append(sum(prec for prec in precisions.values()) / len(precisions))\n",
        "            r.append(sum(rec for rec in recalls.values()) / len(recalls))\n",
        "        \n",
        "        print('-----> Precision: ', round(sum(p) / len(p), 3))\n",
        "        print('-----> Recall: ', round(sum(r) / len(r), 3))"
      ]
    },
    {
      "attachments": {},
      "cell_type": "markdown",
      "metadata": {
        "id": "2W0MdIZ1wIDS"
      },
      "source": [
        "- User-based and Item-based Collaborative Models have nearly same. User based RMSE values `0.99` while the \"Item based\" model's RMSE is `1.003`. Clearly, tuned Collaborative Filtering Models have performed better than baseline model. The optimized user based model show RMSE of `0.96` while the optimized item based model show RMSE of `0.94`.\n",
        "\n",
        "- The Collaborative Models use the user-item-ratings data to find similarities and make predictions rather than just predicting a random rating based on the distribution of the data. This could a reason why the Collaborative filtering performed well.\n",
        "\n",
        "- Collaborative Filtering searches for neighbors based on similarity of item (example) preferences and recommend items that those neighbors interacted while Matrix factorization works by decomposing the user-item matrix into the product of two lower dimensionality rectangular matrices.\n",
        "\n",
        "- RMSE for Matrix Factorization is `0.90` which is better than the Collaborative Filtering Models `~1.00`.\n",
        "- Tuning SVD matrix factorization model is not improving the base line SVD much.  \n",
        "- Matrix Factorization has lower RMSE due to the reason that it assumes that both items and users are present in some low dimensional space describing their properties and recommend a item based on its proximity to the user in the latent space. Implying it accounts for latent factors as well."
      ]
    },
    {
      "cell_type": "markdown",
      "metadata": {
        "id": "TgDOPCXOvOOM"
      },
      "source": [
        "### **Conclusions**"
      ]
    },
    {
      "cell_type": "markdown",
      "metadata": {
        "id": "WJ4L2PwQvOOM"
      },
      "source": [
        "In this case study, we saw three different ways of building recommendation systems: \n",
        "- rank-based using averages\n",
        "- similarity-based collaborative filtering\n",
        "- model-based (matrix factorization) collaborative filtering"
      ]
    },
    {
      "cell_type": "markdown",
      "metadata": {
        "id": "4XP9B9bVvOOM"
      },
      "source": [
        "We also understood advantages/disadvantages of these recommendation systems and when to use which kind of recommendation systems. Once we build these recommendation systems, we can use **A/B Testing** to measure the effectiveness of these systems."
      ]
    },
    {
      "cell_type": "markdown",
      "metadata": {
        "id": "fAQfeVYLvOOM"
      },
      "source": [
        "Here is an article explaining how [Amazon use **A/B Testing**](https://aws.amazon.com/blogs/machine-learning/using-a-b-testing-to-measure-the-efficacy-of-recommendations-generated-by-amazon-personalize/) to measure effectiveness of its recommendation systems."
      ]
    }
  ],
  "metadata": {
    "colab": {
      "collapsed_sections": [],
      "provenance": []
    },
    "kernelspec": {
      "display_name": "Python 3 (ipykernel)",
      "language": "python",
      "name": "python3"
    },
    "language_info": {
      "codemirror_mode": {
        "name": "ipython",
        "version": 3
      },
      "file_extension": ".py",
      "mimetype": "text/x-python",
      "name": "python",
      "nbconvert_exporter": "python",
      "pygments_lexer": "ipython3",
      "version": "3.8.16"
    }
  },
  "nbformat": 4,
  "nbformat_minor": 0
}
